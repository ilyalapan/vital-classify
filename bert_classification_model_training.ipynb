{
  "cells": [
    {
      "cell_type": "markdown",
      "source": [
        "## For Colab only"
      ],
      "metadata": {
        "id": "Bpzhyebbr5FZ"
      }
    },
    {
      "cell_type": "code",
      "source": [
        "!git clone https://github.com/maftukh/news_classifier.git"
      ],
      "metadata": {
        "colab": {
          "base_uri": "https://localhost:8080/"
        },
        "id": "dbJeQLjLr4KV",
        "outputId": "12e57ca8-4a6e-4094-8358-7c88014f2d7b"
      },
      "execution_count": 1,
      "outputs": [
        {
          "output_type": "stream",
          "name": "stdout",
          "text": [
            "Cloning into 'news_classifier'...\n",
            "remote: Enumerating objects: 32, done.\u001b[K\n",
            "remote: Counting objects: 100% (32/32), done.\u001b[K\n",
            "remote: Compressing objects: 100% (21/21), done.\u001b[K\n",
            "remote: Total 32 (delta 10), reused 17 (delta 6), pack-reused 0\u001b[K\n",
            "Unpacking objects: 100% (32/32), done.\n"
          ]
        }
      ]
    },
    {
      "cell_type": "code",
      "source": [
        "!ls news_classifier/"
      ],
      "metadata": {
        "colab": {
          "base_uri": "https://localhost:8080/"
        },
        "id": "PUxVhOH2sXIO",
        "outputId": "ef067c6d-19e7-42fa-bd93-d1539df37b2f"
      },
      "execution_count": 2,
      "outputs": [
        {
          "output_type": "stream",
          "name": "stdout",
          "text": [
            "bert_classification_model.ipynb\t\t      data     evals.py  optim.py\n",
            "bert_classification_model_with_modules.ipynb  data.py  model.py  README.md\n"
          ]
        }
      ]
    },
    {
      "cell_type": "code",
      "source": [
        "from google.colab import drive\n",
        "drive.mount('/content/gdrive')"
      ],
      "metadata": {
        "colab": {
          "base_uri": "https://localhost:8080/"
        },
        "id": "-5WD-MVJuEoQ",
        "outputId": "8e47e4bc-9f0d-4d4c-937b-a6c5d8ba0805"
      },
      "execution_count": 3,
      "outputs": [
        {
          "output_type": "stream",
          "name": "stdout",
          "text": [
            "Mounted at /content/gdrive\n"
          ]
        }
      ]
    },
    {
      "cell_type": "code",
      "source": [
        "# Fix the path to get the correct model\n",
        "!mkdir ./news_classifier/model/\n",
        "!cp /content/gdrive/MyDrive/data/news_cat/model/finetuned_pytorch_model_32_ep5.bin ./news_classifier/model/"
      ],
      "metadata": {
        "id": "-vhwB7UZuG3c"
      },
      "execution_count": 4,
      "outputs": []
    },
    {
      "cell_type": "markdown",
      "source": [
        "## Imports"
      ],
      "metadata": {
        "id": "AKOLANsLsccC"
      }
    },
    {
      "cell_type": "code",
      "execution_count": 5,
      "metadata": {
        "ExecuteTime": {
          "end_time": "2022-04-06T22:56:51.596644Z",
          "start_time": "2022-04-06T22:56:42.631022Z"
        },
        "colab": {
          "base_uri": "https://localhost:8080/"
        },
        "id": "lgBoMxp0FMI3",
        "outputId": "08b6cbf8-b154-4860-f96c-2fe3ba0ca7b7"
      },
      "outputs": [
        {
          "output_type": "stream",
          "name": "stdout",
          "text": [
            "Collecting pytorch-pretrained-bert\n",
            "  Downloading pytorch_pretrained_bert-0.6.2-py3-none-any.whl (123 kB)\n",
            "\u001b[?25l\r\u001b[K     |██▋                             | 10 kB 22.4 MB/s eta 0:00:01\r\u001b[K     |█████▎                          | 20 kB 10.6 MB/s eta 0:00:01\r\u001b[K     |████████                        | 30 kB 9.1 MB/s eta 0:00:01\r\u001b[K     |██████████▋                     | 40 kB 8.4 MB/s eta 0:00:01\r\u001b[K     |█████████████▎                  | 51 kB 4.3 MB/s eta 0:00:01\r\u001b[K     |███████████████▉                | 61 kB 5.0 MB/s eta 0:00:01\r\u001b[K     |██████████████████▌             | 71 kB 5.4 MB/s eta 0:00:01\r\u001b[K     |█████████████████████▏          | 81 kB 5.7 MB/s eta 0:00:01\r\u001b[K     |███████████████████████▉        | 92 kB 6.3 MB/s eta 0:00:01\r\u001b[K     |██████████████████████████▌     | 102 kB 5.2 MB/s eta 0:00:01\r\u001b[K     |█████████████████████████████▏  | 112 kB 5.2 MB/s eta 0:00:01\r\u001b[K     |███████████████████████████████▊| 122 kB 5.2 MB/s eta 0:00:01\r\u001b[K     |████████████████████████████████| 123 kB 5.2 MB/s \n",
            "\u001b[?25hRequirement already satisfied: requests in /usr/local/lib/python3.7/dist-packages (from pytorch-pretrained-bert) (2.23.0)\n",
            "Requirement already satisfied: regex in /usr/local/lib/python3.7/dist-packages (from pytorch-pretrained-bert) (2019.12.20)\n",
            "Requirement already satisfied: numpy in /usr/local/lib/python3.7/dist-packages (from pytorch-pretrained-bert) (1.21.5)\n",
            "Requirement already satisfied: torch>=0.4.1 in /usr/local/lib/python3.7/dist-packages (from pytorch-pretrained-bert) (1.10.0+cu111)\n",
            "Requirement already satisfied: tqdm in /usr/local/lib/python3.7/dist-packages (from pytorch-pretrained-bert) (4.63.0)\n",
            "Collecting boto3\n",
            "  Downloading boto3-1.21.36-py3-none-any.whl (132 kB)\n",
            "\u001b[K     |████████████████████████████████| 132 kB 39.7 MB/s \n",
            "\u001b[?25hRequirement already satisfied: typing-extensions in /usr/local/lib/python3.7/dist-packages (from torch>=0.4.1->pytorch-pretrained-bert) (3.10.0.2)\n",
            "Collecting jmespath<2.0.0,>=0.7.1\n",
            "  Downloading jmespath-1.0.0-py3-none-any.whl (23 kB)\n",
            "Collecting botocore<1.25.0,>=1.24.36\n",
            "  Downloading botocore-1.24.36-py3-none-any.whl (8.7 MB)\n",
            "\u001b[K     |████████████████████████████████| 8.7 MB 39.5 MB/s \n",
            "\u001b[?25hCollecting s3transfer<0.6.0,>=0.5.0\n",
            "  Downloading s3transfer-0.5.2-py3-none-any.whl (79 kB)\n",
            "\u001b[K     |████████████████████████████████| 79 kB 8.1 MB/s \n",
            "\u001b[?25hCollecting urllib3<1.27,>=1.25.4\n",
            "  Downloading urllib3-1.26.9-py2.py3-none-any.whl (138 kB)\n",
            "\u001b[K     |████████████████████████████████| 138 kB 53.3 MB/s \n",
            "\u001b[?25hRequirement already satisfied: python-dateutil<3.0.0,>=2.1 in /usr/local/lib/python3.7/dist-packages (from botocore<1.25.0,>=1.24.36->boto3->pytorch-pretrained-bert) (2.8.2)\n",
            "Requirement already satisfied: six>=1.5 in /usr/local/lib/python3.7/dist-packages (from python-dateutil<3.0.0,>=2.1->botocore<1.25.0,>=1.24.36->boto3->pytorch-pretrained-bert) (1.15.0)\n",
            "Requirement already satisfied: chardet<4,>=3.0.2 in /usr/local/lib/python3.7/dist-packages (from requests->pytorch-pretrained-bert) (3.0.4)\n",
            "  Downloading urllib3-1.25.11-py2.py3-none-any.whl (127 kB)\n",
            "\u001b[K     |████████████████████████████████| 127 kB 51.2 MB/s \n",
            "\u001b[?25hRequirement already satisfied: certifi>=2017.4.17 in /usr/local/lib/python3.7/dist-packages (from requests->pytorch-pretrained-bert) (2021.10.8)\n",
            "Requirement already satisfied: idna<3,>=2.5 in /usr/local/lib/python3.7/dist-packages (from requests->pytorch-pretrained-bert) (2.10)\n",
            "Installing collected packages: urllib3, jmespath, botocore, s3transfer, boto3, pytorch-pretrained-bert\n",
            "  Attempting uninstall: urllib3\n",
            "    Found existing installation: urllib3 1.24.3\n",
            "    Uninstalling urllib3-1.24.3:\n",
            "      Successfully uninstalled urllib3-1.24.3\n",
            "\u001b[31mERROR: pip's dependency resolver does not currently take into account all the packages that are installed. This behaviour is the source of the following dependency conflicts.\n",
            "datascience 0.10.6 requires folium==0.2.1, but you have folium 0.8.3 which is incompatible.\u001b[0m\n",
            "Successfully installed boto3-1.21.36 botocore-1.24.36 jmespath-1.0.0 pytorch-pretrained-bert-0.6.2 s3transfer-0.5.2 urllib3-1.25.11\n"
          ]
        }
      ],
      "source": [
        "!pip install pytorch-pretrained-bert"
      ]
    },
    {
      "cell_type": "code",
      "execution_count": 6,
      "metadata": {
        "ExecuteTime": {
          "end_time": "2022-04-07T23:23:48.877746Z",
          "start_time": "2022-04-07T23:23:48.833915Z"
        },
        "id": "Qnr9wBI-FGi0"
      },
      "outputs": [],
      "source": [
        "import os\n",
        "import sys\n",
        "import random\n",
        "from pathlib import Path\n",
        "\n",
        "# Third-party packages\n",
        "import numpy as np\n",
        "import pandas as pd\n",
        "from pytorch_pretrained_bert.tokenization import BertTokenizer\n",
        "import torch\n",
        "from tqdm.notebook import tqdm, trange\n",
        "\n",
        "sys.path.append('/content/news_classifier')\n",
        "\n",
        "# Custom imports\n",
        "import model\n",
        "import data\n",
        "import evals\n",
        "import optim\n",
        "\n"
      ]
    },
    {
      "cell_type": "code",
      "execution_count": 7,
      "metadata": {
        "ExecuteTime": {
          "end_time": "2022-04-07T23:10:55.871282Z",
          "start_time": "2022-04-07T23:10:55.830930Z"
        },
        "id": "S91c47gyr1Il"
      },
      "outputs": [],
      "source": [
        "# To make sure custom modules are up-to-date by the time of each call\n",
        "%load_ext autoreload\n",
        "%autoreload 2"
      ]
    },
    {
      "cell_type": "markdown",
      "metadata": {
        "id": "8fpcnkD6FGi-"
      },
      "source": [
        "## Model Parameters"
      ]
    },
    {
      "cell_type": "code",
      "execution_count": 8,
      "metadata": {
        "ExecuteTime": {
          "end_time": "2022-04-07T23:14:49.783044Z",
          "start_time": "2022-04-07T23:14:49.757499Z"
        },
        "id": "bi7m2lP-FGi_"
      },
      "outputs": [],
      "source": [
        "DATA_PATH = Path('news_classifier/data/')\n",
        "MODEL_PATH = Path('news_classifier/model/')\n",
        "\n",
        "args = {\n",
        "    \"data_dir\": DATA_PATH,\n",
        "    \"output_dir\": MODEL_PATH,\n",
        "    \"ckpt_name\": 'pretrain.ckpt', # Файл с которого хочется продолжить обучение\n",
        "    \n",
        "    \"task_name\": \"news_cat_label\",\n",
        "    \"bert_model\": 'bert-base-uncased',  # оптимальная моделька с точки зрения веса, вряд ли стоит менять\n",
        "    \"do_lower_case\": True,\n",
        "    \n",
        "    \"max_seq_length\": 32, # Сколько слов из колонки 'text' используется в модели\n",
        "    \"batch_size\": 128, # размер батча на входе в модель\n",
        "    'eval_steps': 500, # Через сколько шагов делать промежуточную оценку модели\n",
        "    \n",
        "    \"learning_rate\": 3e-5,\n",
        "    \"num_train_epochs\": 5.0,\n",
        "    \"warmup_proportion\": 0., # При .1 - первые 10% шагов обучения будут плавными, чтоб избежать взрыва градиентов \n",
        "\n",
        "    \"no_cuda\": False, # Если есть cuda, но почему-то не хочешь юзать\n",
        "    \"seed\": 42,\n",
        "}\n",
        "\n"
      ]
    },
    {
      "cell_type": "code",
      "execution_count": 9,
      "metadata": {
        "ExecuteTime": {
          "end_time": "2022-04-07T23:15:20.435719Z",
          "start_time": "2022-04-07T23:15:20.392603Z"
        },
        "id": "niEnHpNbFGji"
      },
      "outputs": [],
      "source": [
        "def set_random_seeds(seed):\n",
        "    random.seed(seed)\n",
        "    np.random.seed(seed)\n",
        "    torch.manual_seed(seed)\n",
        "    if torch.cuda.is_available():\n",
        "        torch.cuda.manual_seed_all(seed)"
      ]
    },
    {
      "cell_type": "code",
      "execution_count": 10,
      "metadata": {
        "ExecuteTime": {
          "end_time": "2022-04-07T23:15:21.091805Z",
          "start_time": "2022-04-07T23:15:21.050290Z"
        },
        "id": "bZUIhiryFGje"
      },
      "outputs": [],
      "source": [
        "# Setup GPU parameters\n",
        "args['device'] = torch.device(\"cuda\" if torch.cuda.is_available() and not args[\"no_cuda\"] else \"cpu\")\n",
        "\n",
        "set_random_seeds(args['seed'])"
      ]
    },
    {
      "cell_type": "code",
      "execution_count": 11,
      "metadata": {
        "ExecuteTime": {
          "end_time": "2022-04-07T23:20:07.255995Z",
          "start_time": "2022-04-07T23:20:07.235640Z"
        },
        "id": "m8suajGgFGi4"
      },
      "outputs": [],
      "source": [
        "import logging\n",
        "logging.basicConfig(format='%(asctime)s - %(levelname)s - %(name)s -   %(message)s',\n",
        "                    datefmt='%m/%d/%Y %H:%M:%S',\n",
        "                    level=logging.INFO)\n",
        "args['logger'] = logging.getLogger(__name__)"
      ]
    },
    {
      "cell_type": "markdown",
      "metadata": {
        "id": "R4EOBelrr1Im"
      },
      "source": [
        "## Preprocess data"
      ]
    },
    {
      "cell_type": "markdown",
      "metadata": {
        "id": "Lp4Csj_JQeS6"
      },
      "source": [
        "### Read Train Dataset"
      ]
    },
    {
      "cell_type": "code",
      "execution_count": 12,
      "metadata": {
        "ExecuteTime": {
          "end_time": "2022-04-07T23:11:39.435474Z",
          "start_time": "2022-04-07T23:11:36.390452Z"
        },
        "id": "8RShNwNLr1Io"
      },
      "outputs": [],
      "source": [
        "### How to get cleaned.csv - but it's already pre-computed\n",
        "\n",
        "# df_orig = pd.read_json('data/News_Category_Dataset_v2.json', lines=True)\n",
        "# df_orig['text'] = df_orig['headline'] + ' ' + df_orig['short_description']\n",
        "\n",
        "# df_orig[['category', 'text']].to_csv('data/cleaned.csv')\n",
        "# df_orig.head()"
      ]
    },
    {
      "cell_type": "code",
      "execution_count": 13,
      "metadata": {
        "ExecuteTime": {
          "end_time": "2022-04-07T23:11:58.551574Z",
          "start_time": "2022-04-07T23:11:58.526766Z"
        },
        "id": "3s_hXuSVR143"
      },
      "outputs": [],
      "source": [
        "def custom_filter_dataset(df):\n",
        "    df = df.copy()\n",
        "    col_map = {\n",
        "        'STYLE & BEAUTY': 'STYLE',\n",
        "        'CULTURE & ARTS': 'ARTS',\n",
        "        'ARTS & CULTURE': 'ARTS',\n",
        "        'WORLDPOST': 'WORLD NEWS',\n",
        "        'WELLNESS': 'HEALTHY LIVING',\n",
        "        'COMEDY': 'ENTERTAINMENT',\n",
        "        'GREEN': 'ENVIRONMENT',\n",
        "        'TASTE': 'FOOD & DRINK'\n",
        "    }\n",
        "\n",
        "    white_list = [\n",
        "        'POLITICS',\n",
        "        'HEALTHY LIVING',\n",
        "        'ENTERTAINMENT',\n",
        "        'TRAVEL',\n",
        "        'FOOD & DRINK',\n",
        "        'BUSINESS',\n",
        "        'SPORTS',\n",
        "        'HOME & LIVING',\n",
        "        'WORLD NEWS',\n",
        "        'WOMEN',\n",
        "        'SCIENCE',\n",
        "        'STYLE',\n",
        "        'ARTS',\n",
        "        'TECH',\n",
        "        'MONEY',\n",
        "        'ENVIRONMENT',\n",
        "        'RELIGION']\n",
        "\n",
        "    df['category'] = df['category'].map(lambda x: col_map[x] if x in col_map else x)\n",
        "    df['category'] = df['category'].map(lambda x: x if x in white_list else 'OTHER')\n",
        "\n",
        "    # Too much of OTHER, which could lead to some bias towards it - let's sample\n",
        "    drop_list = df.query('category == \"OTHER\"').sample(frac=.75).index\n",
        "    df = df.drop(drop_list)\n",
        "\n",
        "    # Also filter news with too few words\n",
        "    df = df[df['text'].str.split().str.len() >= 5]\n",
        "\n",
        "    return df"
      ]
    },
    {
      "cell_type": "code",
      "execution_count": 14,
      "metadata": {
        "ExecuteTime": {
          "end_time": "2022-04-07T23:12:01.133899Z",
          "start_time": "2022-04-07T23:11:59.458141Z"
        },
        "colab": {
          "base_uri": "https://localhost:8080/"
        },
        "id": "ubNhI-tQr1Iq",
        "outputId": "3497ce24-6c00-42bd-996d-5891ea42fb7b"
      },
      "outputs": [
        {
          "output_type": "execute_result",
          "data": {
            "text/plain": [
              "(160520, 2)"
            ]
          },
          "metadata": {},
          "execution_count": 14
        }
      ],
      "source": [
        "df = pd.read_csv(os.path.join(args['data_dir'], 'cleaned.csv'), index_col=0)\n",
        "assert 'text' in df.columns, \"dataframe must contain 'text' column\"\n",
        "assert 'category' in df.columns, \"dataframe must contain 'category' column\"\n",
        "df = custom_filter_dataset(df)\n",
        "df.shape"
      ]
    },
    {
      "cell_type": "code",
      "execution_count": 15,
      "metadata": {
        "ExecuteTime": {
          "end_time": "2022-04-07T23:12:01.751378Z",
          "start_time": "2022-04-07T23:12:01.699227Z"
        },
        "colab": {
          "base_uri": "https://localhost:8080/"
        },
        "id": "u4MJUtOXUfyy",
        "outputId": "d1241a6a-cf2c-41a5-8a09-02b3425c8ea2"
      },
      "outputs": [
        {
          "output_type": "stream",
          "name": "stdout",
          "text": [
            "total categories: 18\n",
            "category\n",
            "ARTS               3846\n",
            "BUSINESS           5897\n",
            "ENTERTAINMENT     21020\n",
            "ENVIRONMENT        3926\n",
            "FOOD & DRINK       8298\n",
            "HEALTHY LIVING    24385\n",
            "HOME & LIVING      4193\n",
            "MONEY              1707\n",
            "OTHER             13118\n",
            "POLITICS          32622\n",
            "RELIGION           2501\n",
            "SCIENCE            2170\n",
            "SPORTS             4845\n",
            "STYLE             11889\n",
            "TECH               2080\n",
            "TRAVEL             9853\n",
            "WOMEN              3467\n",
            "WORLD NEWS         4703\n",
            "dtype: int64\n"
          ]
        }
      ],
      "source": [
        "cates = df.groupby('category')\n",
        "print(\"total categories:\", cates.ngroups)\n",
        "print(cates.size())"
      ]
    },
    {
      "cell_type": "markdown",
      "metadata": {
        "id": "JSNgs9Yzr1Is"
      },
      "source": [
        "### Split data"
      ]
    },
    {
      "cell_type": "code",
      "execution_count": 16,
      "metadata": {
        "ExecuteTime": {
          "end_time": "2022-04-07T23:14:02.136973Z",
          "start_time": "2022-04-07T23:14:00.653227Z"
        },
        "colab": {
          "base_uri": "https://localhost:8080/"
        },
        "id": "Y0exxcNIdUjv",
        "outputId": "e7dd96ab-52ae-4cd7-9d74-a97703869b2d"
      },
      "outputs": [
        {
          "output_type": "stream",
          "name": "stdout",
          "text": [
            "(112364, 20) (24078, 20) (24078, 20)\n"
          ]
        }
      ],
      "source": [
        "train, val, test = data.get_data_splits(df, train_size=0.7, test_size=0.15, random_seed=200)\n",
        "print(train.shape, val.shape, test.shape)\n",
        "train.to_csv(os.path.join(args['data_dir'], 'train.csv'), encoding='utf-8')\n",
        "val.to_csv(os.path.join(args['data_dir'], 'val.csv'), encoding='utf-8')\n",
        "test.to_csv(os.path.join(args['data_dir'], 'test.csv'), encoding='utf-8')"
      ]
    },
    {
      "cell_type": "markdown",
      "metadata": {
        "id": "XhA3EA1oFGjY"
      },
      "source": [
        "## Data preparations"
      ]
    },
    {
      "cell_type": "code",
      "execution_count": 17,
      "metadata": {
        "ExecuteTime": {
          "end_time": "2022-04-07T23:15:34.608041Z",
          "start_time": "2022-04-07T23:15:34.578058Z"
        },
        "id": "NaVK3f8HFGjo",
        "colab": {
          "base_uri": "https://localhost:8080/"
        },
        "outputId": "5f37e71c-9d34-4a47-bab2-698d374a0fc3"
      },
      "outputs": [
        {
          "output_type": "execute_result",
          "data": {
            "text/plain": [
              "(18,\n",
              " ['ENTERTAINMENT',\n",
              "  'WORLD NEWS',\n",
              "  'OTHER',\n",
              "  'POLITICS',\n",
              "  'WOMEN',\n",
              "  'SPORTS',\n",
              "  'BUSINESS',\n",
              "  'TRAVEL',\n",
              "  'TECH',\n",
              "  'RELIGION',\n",
              "  'SCIENCE',\n",
              "  'ARTS',\n",
              "  'STYLE',\n",
              "  'ENVIRONMENT',\n",
              "  'FOOD & DRINK',\n",
              "  'HEALTHY LIVING',\n",
              "  'HOME & LIVING',\n",
              "  'MONEY'])"
            ]
          },
          "metadata": {},
          "execution_count": 17
        }
      ],
      "source": [
        "# args['label_list'] = np.sort(df.category.unique()) - в будущем для обучения лучше так. У меня просто модель со след списком обучилась:\n",
        "args['label_list'] = ['ENTERTAINMENT', 'WORLD NEWS', 'OTHER', 'POLITICS', 'WOMEN', 'SPORTS',\n",
        "       'BUSINESS', 'TRAVEL', 'TECH', 'RELIGION', 'SCIENCE', 'ARTS', 'STYLE',\n",
        "       'ENVIRONMENT', 'FOOD & DRINK', 'HEALTHY LIVING', 'HOME & LIVING',\n",
        "       'MONEY']\n",
        "args['num_labels'] = len(args['label_list'])\n",
        "args['num_labels'], args['label_list']    "
      ]
    },
    {
      "cell_type": "code",
      "execution_count": 18,
      "metadata": {
        "ExecuteTime": {
          "end_time": "2022-04-07T23:15:52.118173Z",
          "start_time": "2022-04-07T23:15:51.135218Z"
        },
        "colab": {
          "base_uri": "https://localhost:8080/"
        },
        "id": "pSm7wuMHr1Iw",
        "outputId": "c388ad1e-b318-446c-83f6-7396c026bec6"
      },
      "outputs": [
        {
          "output_type": "stream",
          "name": "stderr",
          "text": [
            "04/08/2022 11:55:38 - INFO - pytorch_pretrained_bert.file_utils -   https://s3.amazonaws.com/models.huggingface.co/bert/bert-base-uncased-vocab.txt not found in cache, downloading to /tmp/tmpdlrnuxpd\n",
            "100%|██████████| 231508/231508 [00:00<00:00, 3360762.17B/s]\n",
            "04/08/2022 11:55:38 - INFO - pytorch_pretrained_bert.file_utils -   copying /tmp/tmpdlrnuxpd to cache at /root/.pytorch_pretrained_bert/26bc1ad6c0ac742e9b52263248f6d0f00068293b33709fae12320c0e35ccfbbb.542ce4285a40d23a559526243235df47c5f75c197f04f37d1a0c124c32c9a084\n",
            "04/08/2022 11:55:38 - INFO - pytorch_pretrained_bert.file_utils -   creating metadata file for /root/.pytorch_pretrained_bert/26bc1ad6c0ac742e9b52263248f6d0f00068293b33709fae12320c0e35ccfbbb.542ce4285a40d23a559526243235df47c5f75c197f04f37d1a0c124c32c9a084\n",
            "04/08/2022 11:55:38 - INFO - pytorch_pretrained_bert.file_utils -   removing temp file /tmp/tmpdlrnuxpd\n",
            "04/08/2022 11:55:38 - INFO - pytorch_pretrained_bert.tokenization -   loading vocabulary file https://s3.amazonaws.com/models.huggingface.co/bert/bert-base-uncased-vocab.txt from cache at /root/.pytorch_pretrained_bert/26bc1ad6c0ac742e9b52263248f6d0f00068293b33709fae12320c0e35ccfbbb.542ce4285a40d23a559526243235df47c5f75c197f04f37d1a0c124c32c9a084\n"
          ]
        }
      ],
      "source": [
        "processor = data.LabelTextProcessor(args['data_dir'], labels=args['label_list'])\n",
        "tokenizer = BertTokenizer.from_pretrained(args['bert_model'], do_lower_case=args['do_lower_case'])"
      ]
    },
    {
      "cell_type": "code",
      "execution_count": 19,
      "metadata": {
        "ExecuteTime": {
          "end_time": "2022-04-07T23:17:28.757089Z",
          "start_time": "2022-04-07T23:16:09.023769Z"
        },
        "id": "XsA92xvwFGjs"
      },
      "outputs": [],
      "source": [
        "train_examples = processor.get_train_examples(args['data_dir'])\n",
        "train_features = data.convert_examples_to_features(train_examples, args['label_list'], args['max_seq_length'], tokenizer)\n",
        "\n",
        "val_examples = processor.get_dev_examples(args['data_dir'])\n",
        "val_features = data.convert_examples_to_features(val_examples, args['label_list'], args['max_seq_length'], tokenizer)\n",
        "\n",
        "test_examples = processor.get_test_examples(args['data_dir'])\n",
        "test_features = data.convert_examples_to_features(test_examples, args['label_list'], args['max_seq_length'], tokenizer)"
      ]
    },
    {
      "cell_type": "code",
      "execution_count": 20,
      "metadata": {
        "ExecuteTime": {
          "end_time": "2022-04-07T23:22:23.994020Z",
          "start_time": "2022-04-07T23:22:23.960885Z"
        },
        "id": "keyb_Iirr1Iw"
      },
      "outputs": [],
      "source": [
        "args['num_train_steps'] = int(len(train_examples) / args['batch_size'] * args['num_train_epochs'])"
      ]
    },
    {
      "cell_type": "markdown",
      "metadata": {
        "id": "6M6JiFJqSrTL"
      },
      "source": [
        "## Prepare model"
      ]
    },
    {
      "cell_type": "code",
      "execution_count": null,
      "metadata": {
        "ExecuteTime": {
          "end_time": "2022-04-07T23:18:20.077416Z",
          "start_time": "2022-04-07T23:18:13.982463Z"
        },
        "collapsed": true,
        "id": "W6gcBmTFFGjw"
      },
      "outputs": [],
      "source": [
        "if args['ckpt_name'] in os.listdir(args['output_dir']):\n",
        "    bert_model = model.get_model(model_path=Path(args['output_dir'], args['ckpt_name']), \n",
        "                                  bert_model=args['bert_model'], \n",
        "                                  num_labels=args['num_labels'])\n",
        "else:\n",
        "    bert_model = model.get_model(bert_model=args['bert_model'], \n",
        "                                  num_labels=args['num_labels'])\n",
        "\n",
        "bert_model.to(args['device'])"
      ]
    },
    {
      "cell_type": "markdown",
      "metadata": {
        "id": "dNe5ZxnKSZxA"
      },
      "source": [
        "## Train model"
      ]
    },
    {
      "cell_type": "markdown",
      "metadata": {
        "id": "xiezbOiNFGj4"
      },
      "source": [
        "### Load training data"
      ]
    },
    {
      "cell_type": "code",
      "execution_count": 23,
      "metadata": {
        "ExecuteTime": {
          "end_time": "2022-04-07T23:19:19.972707Z",
          "start_time": "2022-04-07T23:19:18.575004Z"
        },
        "id": "dFnhLYVcFGj7"
      },
      "outputs": [],
      "source": [
        "train_dataloader = data.prepare_dataloader(train_features, args['batch_size'])\n",
        "val_dataloader = data.prepare_dataloader(val_features, args['batch_size'], test=True)\n",
        "test_dataloader = data.prepare_dataloader(test_features, args['batch_size'], test=True)"
      ]
    },
    {
      "cell_type": "markdown",
      "metadata": {
        "id": "3JIYuWvyFGj_"
      },
      "source": [
        "### Train Model"
      ]
    },
    {
      "cell_type": "code",
      "execution_count": null,
      "metadata": {
        "ExecuteTime": {
          "end_time": "2022-04-07T23:33:45.233914Z",
          "start_time": "2022-04-07T23:33:45.233875Z"
        },
        "id": "HIx-5a0rFGkI"
      },
      "outputs": [],
      "source": [
        "evals.fit(bert_model, train_dataloader, val_dataloader, args)"
      ]
    },
    {
      "cell_type": "code",
      "execution_count": null,
      "metadata": {
        "id": "17pligoAFGkH"
      },
      "outputs": [],
      "source": [
        "# It's possible to freeze/unfreeze BERT layers for finetuning \n",
        "#bert_model.freeze_bert_encoder()\n",
        "#bert_model.unfreeze_bert_encoder()"
      ]
    },
    {
      "cell_type": "markdown",
      "metadata": {
        "id": "4wshF1-zr1Iz"
      },
      "source": [
        "### Save model"
      ]
    },
    {
      "cell_type": "code",
      "execution_count": null,
      "metadata": {
        "ExecuteTime": {
          "end_time": "2022-04-07T23:34:05.081188Z",
          "start_time": "2022-04-07T23:34:04.564012Z"
        },
        "id": "coJHsl4UFGkL"
      },
      "outputs": [],
      "source": [
        "fname = \"finetuned_pytorch_model.bin\"\n",
        "output_model_file = os.path.join(args['output_dir'], fname)\n",
        "torch.save(bert_model.state_dict(), output_model_file)"
      ]
    },
    {
      "cell_type": "markdown",
      "metadata": {
        "id": "H-0Ck9B0r1Iz"
      },
      "source": [
        "### Load model"
      ]
    },
    {
      "cell_type": "code",
      "execution_count": null,
      "metadata": {
        "ExecuteTime": {
          "end_time": "2022-04-08T00:19:43.469606Z",
          "start_time": "2022-04-08T00:19:38.378326Z"
        },
        "id": "CuiL7uQgr1Iz"
      },
      "outputs": [],
      "source": [
        "# fname = \"finetuned_pytorch_model.bin\"\n",
        "# output_model_file = os.path.join(args['output_dir'], fname)\n",
        "\n",
        "fname = \"finetuned_pytorch_model_32_ep5.bin\"\n",
        "output_model_file = os.path.join('/content/gdrive/MyDrive/data/news_cat/model', fname)\n",
        "\n",
        "bert_model = model.get_model(model_path=output_model_file, \n",
        "                             bert_model=args['bert_model'], \n",
        "                             num_labels=args['num_labels'])\n",
        "bert_model.to(args['device'])"
      ]
    },
    {
      "cell_type": "markdown",
      "metadata": {
        "id": "y57GxEsiFGkO"
      },
      "source": [
        "### Model Evaluation on Test data"
      ]
    },
    {
      "cell_type": "code",
      "execution_count": 26,
      "metadata": {
        "ExecuteTime": {
          "end_time": "2022-04-07T23:34:36.225233Z",
          "start_time": "2022-04-07T23:34:25.190232Z"
        },
        "collapsed": true,
        "colab": {
          "referenced_widgets": [
            "a5175f7311634f8ca73d16d05c5a6002",
            "13d2ffbeeaef43ee8ec5657d5b04cf18",
            "806de6046d144861942828fb270d416b",
            "a58e3bee63524c4cadc8c3e2ae8a4777",
            "5ffcc3e4b36648ccb9fff7c5bc4edefd",
            "8b568e32dc8b48e6bbbef7cd6d800ed3",
            "ea2ede14c5214648b4945ff8c476c00c",
            "5a0ab363d9ae4178873aedf2591a68a5",
            "40cdc0ebcfbc4373996382f03aff4762",
            "082e36cd663e46fa875ac3237bb72af5",
            "0d291611c0eb41609df9a362d05d6bb0"
          ],
          "base_uri": "https://localhost:8080/",
          "height": 122
        },
        "id": "m0VOVRHZr1I0",
        "outputId": "b24f329c-87fd-4726-e63d-2853016d3589"
      },
      "outputs": [
        {
          "output_type": "display_data",
          "data": {
            "text/plain": [
              "  0%|          | 0/189 [00:00<?, ?it/s]"
            ],
            "application/vnd.jupyter.widget-view+json": {
              "version_major": 2,
              "version_minor": 0,
              "model_id": "a5175f7311634f8ca73d16d05c5a6002"
            }
          },
          "metadata": {}
        },
        {
          "output_type": "stream",
          "name": "stderr",
          "text": [
            "04/08/2022 12:02:52 - INFO - __main__ -   ***** Eval results *****\n",
            "04/08/2022 12:02:52 - INFO - __main__ -     eval_accuracy = 0.8791427859456765\n",
            "04/08/2022 12:02:52 - INFO - __main__ -     eval_loss = 0.48573130511102225\n"
          ]
        },
        {
          "output_type": "execute_result",
          "data": {
            "text/plain": [
              "{'eval_accuracy': 0.8791427859456765, 'eval_loss': 0.48573130511102225}"
            ]
          },
          "metadata": {},
          "execution_count": 26
        }
      ],
      "source": [
        "evals.evaluate(bert_model, test_dataloader, args)"
      ]
    },
    {
      "cell_type": "code",
      "execution_count": 31,
      "metadata": {
        "ExecuteTime": {
          "end_time": "2022-04-08T00:24:10.899789Z",
          "start_time": "2022-04-08T00:20:06.295610Z"
        },
        "colab": {
          "base_uri": "https://localhost:8080/",
          "height": 49,
          "referenced_widgets": [
            "31c14b21efe24caa87c0937e0df25644",
            "858991271d2245ec8d95922850efbbd8",
            "71b4db5895a44d34839afb7333126595",
            "e820f87a82954bb5a2088366fd11deb4",
            "3e1802435203433191795d1396360a23",
            "a9e6a6772cc741b19b24c0b1d8d61ea2",
            "f6e853b2a22e4b0392c53a1949f03758",
            "208624c8f46c49a2bdadd20031240ee1",
            "101ece89872b4c4e934da1180a846e7b",
            "d9cf2452b7b64c29b2a9939c6afc458e",
            "84aa089e4ce94c29b0711aa0d98a81bb"
          ]
        },
        "outputId": "8f97ca86-d073-484e-cd0d-469aa3c92f13",
        "scrolled": true,
        "id": "yJkwdOC0r1I1"
      },
      "outputs": [
        {
          "output_type": "display_data",
          "data": {
            "text/plain": [
              "Prediction Iteration:   0%|          | 0/189 [00:00<?, ?it/s]"
            ],
            "application/vnd.jupyter.widget-view+json": {
              "version_major": 2,
              "version_minor": 0,
              "model_id": "31c14b21efe24caa87c0937e0df25644"
            }
          },
          "metadata": {}
        }
      ],
      "source": [
        "result, raw_logits, embeddings = evals.predict(bert_model, 'test.csv', processor, tokenizer, args)"
      ]
    },
    {
      "cell_type": "code",
      "execution_count": 32,
      "metadata": {
        "ExecuteTime": {
          "end_time": "2022-04-08T00:24:10.994698Z",
          "start_time": "2022-04-08T00:24:10.965858Z"
        },
        "id": "HG4dpGhAr1I1"
      },
      "outputs": [],
      "source": [
        "test_cats = test.category\n",
        "result.index = test_cats.index"
      ]
    },
    {
      "cell_type": "code",
      "source": [
        "result.columns[result.values.argmax(axis=1)]"
      ],
      "metadata": {
        "colab": {
          "base_uri": "https://localhost:8080/"
        },
        "id": "-GxGeNlSFJM-",
        "outputId": "69f347e3-d8a4-4e3f-8a5d-0a379552dc35"
      },
      "execution_count": 33,
      "outputs": [
        {
          "output_type": "execute_result",
          "data": {
            "text/plain": [
              "Index(['WOMEN', 'WORLD NEWS', 'ENTERTAINMENT', 'ENTERTAINMENT', 'POLITICS',\n",
              "       'BUSINESS', 'WOMEN', 'ENTERTAINMENT', 'ENTERTAINMENT', 'POLITICS',\n",
              "       ...\n",
              "       'ENTERTAINMENT', 'MONEY', 'HEALTHY LIVING', 'STYLE', 'STYLE',\n",
              "       'ENTERTAINMENT', 'ENTERTAINMENT', 'TECH', 'SPORTS', 'SPORTS'],\n",
              "      dtype='object', length=24078)"
            ]
          },
          "metadata": {},
          "execution_count": 33
        }
      ]
    },
    {
      "cell_type": "code",
      "execution_count": 34,
      "metadata": {
        "ExecuteTime": {
          "end_time": "2022-04-08T00:25:03.575514Z",
          "start_time": "2022-04-08T00:25:02.631686Z"
        },
        "id": "jmBmkWYJr1I3",
        "outputId": "4b2248f7-2982-4a03-8384-01bca0c647b0",
        "colab": {
          "base_uri": "https://localhost:8080/",
          "height": 713
        }
      },
      "outputs": [
        {
          "output_type": "execute_result",
          "data": {
            "text/plain": [
              "Text(0.5, 1.0, 'Confusion matrix of model')"
            ]
          },
          "metadata": {},
          "execution_count": 34
        },
        {
          "output_type": "display_data",
          "data": {
            "text/plain": [
              "<Figure size 720x720 with 2 Axes>"
            ],
            "image/png": "[encoded data removed]"
          },
          "metadata": {
            "needs_background": "light"
          }
        }
      ],
      "source": [
        "from sklearn.metrics import confusion_matrix\n",
        "import seaborn as sns\n",
        "import matplotlib.pyplot as plt \n",
        "\n",
        "\n",
        "cf_matrix = confusion_matrix(result.columns[result.values.argmax(axis=1)], test_cats)\n",
        "\n",
        "\n",
        "plt.figure(figsize=(10,10))\n",
        "heatmap = sns.heatmap(cf_matrix, \n",
        "                      xticklabels=sorted(result.columns),\n",
        "                      yticklabels=sorted(result.columns),\n",
        "                      annot=True, fmt='d', color='blue')\n",
        "plt.xlabel('Predicted class')\n",
        "plt.ylabel('True class')\n",
        "plt.title('Confusion matrix of model')"
      ]
    }
  ],
  "metadata": {
    "accelerator": "GPU",
    "colab": {
      "collapsed_sections": [],
      "name": "bert_classification_model_training.ipynb",
      "provenance": []
    },
    "kernelspec": {
      "display_name": "Python 3 (ipykernel)",
      "language": "python",
      "name": "python3"
    },
    "language_info": {
      "codemirror_mode": {
        "name": "ipython",
        "version": 3
      },
      "file_extension": ".py",
      "mimetype": "text/x-python",
      "name": "python",
      "nbconvert_exporter": "python",
      "pygments_lexer": "ipython3",
      "version": "3.8.10"
    },
    "toc": {
      "base_numbering": 1,
      "nav_menu": {},
      "number_sections": true,
      "sideBar": true,
      "skip_h1_title": false,
      "title_cell": "Table of Contents",
      "title_sidebar": "Contents",
      "toc_cell": false,
      "toc_position": {},
      "toc_section_display": true,
      "toc_window_display": true
    },
    "widgets": {
      "application/vnd.jupyter.widget-state+json": {
        "a5175f7311634f8ca73d16d05c5a6002": {
          "model_module": "@jupyter-widgets/controls",
          "model_name": "HBoxModel",
          "model_module_version": "1.5.0",
          "state": {
            "_dom_classes": [],
            "_model_module": "@jupyter-widgets/controls",
            "_model_module_version": "1.5.0",
            "_model_name": "HBoxModel",
            "_view_count": null,
            "_view_module": "@jupyter-widgets/controls",
            "_view_module_version": "1.5.0",
            "_view_name": "HBoxView",
            "box_style": "",
            "children": [
              "IPY_MODEL_13d2ffbeeaef43ee8ec5657d5b04cf18",
              "IPY_MODEL_806de6046d144861942828fb270d416b",
              "IPY_MODEL_a58e3bee63524c4cadc8c3e2ae8a4777"
            ],
            "layout": "IPY_MODEL_5ffcc3e4b36648ccb9fff7c5bc4edefd"
          }
        },
        "13d2ffbeeaef43ee8ec5657d5b04cf18": {
          "model_module": "@jupyter-widgets/controls",
          "model_name": "HTMLModel",
          "model_module_version": "1.5.0",
          "state": {
            "_dom_classes": [],
            "_model_module": "@jupyter-widgets/controls",
            "_model_module_version": "1.5.0",
            "_model_name": "HTMLModel",
            "_view_count": null,
            "_view_module": "@jupyter-widgets/controls",
            "_view_module_version": "1.5.0",
            "_view_name": "HTMLView",
            "description": "",
            "description_tooltip": null,
            "layout": "IPY_MODEL_8b568e32dc8b48e6bbbef7cd6d800ed3",
            "placeholder": "​",
            "style": "IPY_MODEL_ea2ede14c5214648b4945ff8c476c00c",
            "value": "100%"
          }
        },
        "806de6046d144861942828fb270d416b": {
          "model_module": "@jupyter-widgets/controls",
          "model_name": "FloatProgressModel",
          "model_module_version": "1.5.0",
          "state": {
            "_dom_classes": [],
            "_model_module": "@jupyter-widgets/controls",
            "_model_module_version": "1.5.0",
            "_model_name": "FloatProgressModel",
            "_view_count": null,
            "_view_module": "@jupyter-widgets/controls",
            "_view_module_version": "1.5.0",
            "_view_name": "ProgressView",
            "bar_style": "success",
            "description": "",
            "description_tooltip": null,
            "layout": "IPY_MODEL_5a0ab363d9ae4178873aedf2591a68a5",
            "max": 189,
            "min": 0,
            "orientation": "horizontal",
            "style": "IPY_MODEL_40cdc0ebcfbc4373996382f03aff4762",
            "value": 189
          }
        },
        "a58e3bee63524c4cadc8c3e2ae8a4777": {
          "model_module": "@jupyter-widgets/controls",
          "model_name": "HTMLModel",
          "model_module_version": "1.5.0",
          "state": {
            "_dom_classes": [],
            "_model_module": "@jupyter-widgets/controls",
            "_model_module_version": "1.5.0",
            "_model_name": "HTMLModel",
            "_view_count": null,
            "_view_module": "@jupyter-widgets/controls",
            "_view_module_version": "1.5.0",
            "_view_name": "HTMLView",
            "description": "",
            "description_tooltip": null,
            "layout": "IPY_MODEL_082e36cd663e46fa875ac3237bb72af5",
            "placeholder": "​",
            "style": "IPY_MODEL_0d291611c0eb41609df9a362d05d6bb0",
            "value": " 189/189 [03:01&lt;00:00,  1.37it/s]"
          }
        },
        "5ffcc3e4b36648ccb9fff7c5bc4edefd": {
          "model_module": "@jupyter-widgets/base",
          "model_name": "LayoutModel",
          "model_module_version": "1.2.0",
          "state": {
            "_model_module": "@jupyter-widgets/base",
            "_model_module_version": "1.2.0",
            "_model_name": "LayoutModel",
            "_view_count": null,
            "_view_module": "@jupyter-widgets/base",
            "_view_module_version": "1.2.0",
            "_view_name": "LayoutView",
            "align_content": null,
            "align_items": null,
            "align_self": null,
            "border": null,
            "bottom": null,
            "display": null,
            "flex": null,
            "flex_flow": null,
            "grid_area": null,
            "grid_auto_columns": null,
            "grid_auto_flow": null,
            "grid_auto_rows": null,
            "grid_column": null,
            "grid_gap": null,
            "grid_row": null,
            "grid_template_areas": null,
            "grid_template_columns": null,
            "grid_template_rows": null,
            "height": null,
            "justify_content": null,
            "justify_items": null,
            "left": null,
            "margin": null,
            "max_height": null,
            "max_width": null,
            "min_height": null,
            "min_width": null,
            "object_fit": null,
            "object_position": null,
            "order": null,
            "overflow": null,
            "overflow_x": null,
            "overflow_y": null,
            "padding": null,
            "right": null,
            "top": null,
            "visibility": null,
            "width": null
          }
        },
        "8b568e32dc8b48e6bbbef7cd6d800ed3": {
          "model_module": "@jupyter-widgets/base",
          "model_name": "LayoutModel",
          "model_module_version": "1.2.0",
          "state": {
            "_model_module": "@jupyter-widgets/base",
            "_model_module_version": "1.2.0",
            "_model_name": "LayoutModel",
            "_view_count": null,
            "_view_module": "@jupyter-widgets/base",
            "_view_module_version": "1.2.0",
            "_view_name": "LayoutView",
            "align_content": null,
            "align_items": null,
            "align_self": null,
            "border": null,
            "bottom": null,
            "display": null,
            "flex": null,
            "flex_flow": null,
            "grid_area": null,
            "grid_auto_columns": null,
            "grid_auto_flow": null,
            "grid_auto_rows": null,
            "grid_column": null,
            "grid_gap": null,
            "grid_row": null,
            "grid_template_areas": null,
            "grid_template_columns": null,
            "grid_template_rows": null,
            "height": null,
            "justify_content": null,
            "justify_items": null,
            "left": null,
            "margin": null,
            "max_height": null,
            "max_width": null,
            "min_height": null,
            "min_width": null,
            "object_fit": null,
            "object_position": null,
            "order": null,
            "overflow": null,
            "overflow_x": null,
            "overflow_y": null,
            "padding": null,
            "right": null,
            "top": null,
            "visibility": null,
            "width": null
          }
        },
        "ea2ede14c5214648b4945ff8c476c00c": {
          "model_module": "@jupyter-widgets/controls",
          "model_name": "DescriptionStyleModel",
          "model_module_version": "1.5.0",
          "state": {
            "_model_module": "@jupyter-widgets/controls",
            "_model_module_version": "1.5.0",
            "_model_name": "DescriptionStyleModel",
            "_view_count": null,
            "_view_module": "@jupyter-widgets/base",
            "_view_module_version": "1.2.0",
            "_view_name": "StyleView",
            "description_width": ""
          }
        },
        "5a0ab363d9ae4178873aedf2591a68a5": {
          "model_module": "@jupyter-widgets/base",
          "model_name": "LayoutModel",
          "model_module_version": "1.2.0",
          "state": {
            "_model_module": "@jupyter-widgets/base",
            "_model_module_version": "1.2.0",
            "_model_name": "LayoutModel",
            "_view_count": null,
            "_view_module": "@jupyter-widgets/base",
            "_view_module_version": "1.2.0",
            "_view_name": "LayoutView",
            "align_content": null,
            "align_items": null,
            "align_self": null,
            "border": null,
            "bottom": null,
            "display": null,
            "flex": null,
            "flex_flow": null,
            "grid_area": null,
            "grid_auto_columns": null,
            "grid_auto_flow": null,
            "grid_auto_rows": null,
            "grid_column": null,
            "grid_gap": null,
            "grid_row": null,
            "grid_template_areas": null,
            "grid_template_columns": null,
            "grid_template_rows": null,
            "height": null,
            "justify_content": null,
            "justify_items": null,
            "left": null,
            "margin": null,
            "max_height": null,
            "max_width": null,
            "min_height": null,
            "min_width": null,
            "object_fit": null,
            "object_position": null,
            "order": null,
            "overflow": null,
            "overflow_x": null,
            "overflow_y": null,
            "padding": null,
            "right": null,
            "top": null,
            "visibility": null,
            "width": null
          }
        },
        "40cdc0ebcfbc4373996382f03aff4762": {
          "model_module": "@jupyter-widgets/controls",
          "model_name": "ProgressStyleModel",
          "model_module_version": "1.5.0",
          "state": {
            "_model_module": "@jupyter-widgets/controls",
            "_model_module_version": "1.5.0",
            "_model_name": "ProgressStyleModel",
            "_view_count": null,
            "_view_module": "@jupyter-widgets/base",
            "_view_module_version": "1.2.0",
            "_view_name": "StyleView",
            "bar_color": null,
            "description_width": ""
          }
        },
        "082e36cd663e46fa875ac3237bb72af5": {
          "model_module": "@jupyter-widgets/base",
          "model_name": "LayoutModel",
          "model_module_version": "1.2.0",
          "state": {
            "_model_module": "@jupyter-widgets/base",
            "_model_module_version": "1.2.0",
            "_model_name": "LayoutModel",
            "_view_count": null,
            "_view_module": "@jupyter-widgets/base",
            "_view_module_version": "1.2.0",
            "_view_name": "LayoutView",
            "align_content": null,
            "align_items": null,
            "align_self": null,
            "border": null,
            "bottom": null,
            "display": null,
            "flex": null,
            "flex_flow": null,
            "grid_area": null,
            "grid_auto_columns": null,
            "grid_auto_flow": null,
            "grid_auto_rows": null,
            "grid_column": null,
            "grid_gap": null,
            "grid_row": null,
            "grid_template_areas": null,
            "grid_template_columns": null,
            "grid_template_rows": null,
            "height": null,
            "justify_content": null,
            "justify_items": null,
            "left": null,
            "margin": null,
            "max_height": null,
            "max_width": null,
            "min_height": null,
            "min_width": null,
            "object_fit": null,
            "object_position": null,
            "order": null,
            "overflow": null,
            "overflow_x": null,
            "overflow_y": null,
            "padding": null,
            "right": null,
            "top": null,
            "visibility": null,
            "width": null
          }
        },
        "0d291611c0eb41609df9a362d05d6bb0": {
          "model_module": "@jupyter-widgets/controls",
          "model_name": "DescriptionStyleModel",
          "model_module_version": "1.5.0",
          "state": {
            "_model_module": "@jupyter-widgets/controls",
            "_model_module_version": "1.5.0",
            "_model_name": "DescriptionStyleModel",
            "_view_count": null,
            "_view_module": "@jupyter-widgets/base",
            "_view_module_version": "1.2.0",
            "_view_name": "StyleView",
            "description_width": ""
          }
        },
        "31c14b21efe24caa87c0937e0df25644": {
          "model_module": "@jupyter-widgets/controls",
          "model_name": "HBoxModel",
          "model_module_version": "1.5.0",
          "state": {
            "_dom_classes": [],
            "_model_module": "@jupyter-widgets/controls",
            "_model_module_version": "1.5.0",
            "_model_name": "HBoxModel",
            "_view_count": null,
            "_view_module": "@jupyter-widgets/controls",
            "_view_module_version": "1.5.0",
            "_view_name": "HBoxView",
            "box_style": "",
            "children": [
              "IPY_MODEL_858991271d2245ec8d95922850efbbd8",
              "IPY_MODEL_71b4db5895a44d34839afb7333126595",
              "IPY_MODEL_e820f87a82954bb5a2088366fd11deb4"
            ],
            "layout": "IPY_MODEL_3e1802435203433191795d1396360a23"
          }
        },
        "858991271d2245ec8d95922850efbbd8": {
          "model_module": "@jupyter-widgets/controls",
          "model_name": "HTMLModel",
          "model_module_version": "1.5.0",
          "state": {
            "_dom_classes": [],
            "_model_module": "@jupyter-widgets/controls",
            "_model_module_version": "1.5.0",
            "_model_name": "HTMLModel",
            "_view_count": null,
            "_view_module": "@jupyter-widgets/controls",
            "_view_module_version": "1.5.0",
            "_view_name": "HTMLView",
            "description": "",
            "description_tooltip": null,
            "layout": "IPY_MODEL_a9e6a6772cc741b19b24c0b1d8d61ea2",
            "placeholder": "​",
            "style": "IPY_MODEL_f6e853b2a22e4b0392c53a1949f03758",
            "value": "Prediction Iteration: 100%"
          }
        },
        "71b4db5895a44d34839afb7333126595": {
          "model_module": "@jupyter-widgets/controls",
          "model_name": "FloatProgressModel",
          "model_module_version": "1.5.0",
          "state": {
            "_dom_classes": [],
            "_model_module": "@jupyter-widgets/controls",
            "_model_module_version": "1.5.0",
            "_model_name": "FloatProgressModel",
            "_view_count": null,
            "_view_module": "@jupyter-widgets/controls",
            "_view_module_version": "1.5.0",
            "_view_name": "ProgressView",
            "bar_style": "success",
            "description": "",
            "description_tooltip": null,
            "layout": "IPY_MODEL_208624c8f46c49a2bdadd20031240ee1",
            "max": 189,
            "min": 0,
            "orientation": "horizontal",
            "style": "IPY_MODEL_101ece89872b4c4e934da1180a846e7b",
            "value": 189
          }
        },
        "e820f87a82954bb5a2088366fd11deb4": {
          "model_module": "@jupyter-widgets/controls",
          "model_name": "HTMLModel",
          "model_module_version": "1.5.0",
          "state": {
            "_dom_classes": [],
            "_model_module": "@jupyter-widgets/controls",
            "_model_module_version": "1.5.0",
            "_model_name": "HTMLModel",
            "_view_count": null,
            "_view_module": "@jupyter-widgets/controls",
            "_view_module_version": "1.5.0",
            "_view_name": "HTMLView",
            "description": "",
            "description_tooltip": null,
            "layout": "IPY_MODEL_d9cf2452b7b64c29b2a9939c6afc458e",
            "placeholder": "​",
            "style": "IPY_MODEL_84aa089e4ce94c29b0711aa0d98a81bb",
            "value": " 189/189 [03:03&lt;00:00,  1.34it/s]"
          }
        },
        "3e1802435203433191795d1396360a23": {
          "model_module": "@jupyter-widgets/base",
          "model_name": "LayoutModel",
          "model_module_version": "1.2.0",
          "state": {
            "_model_module": "@jupyter-widgets/base",
            "_model_module_version": "1.2.0",
            "_model_name": "LayoutModel",
            "_view_count": null,
            "_view_module": "@jupyter-widgets/base",
            "_view_module_version": "1.2.0",
            "_view_name": "LayoutView",
            "align_content": null,
            "align_items": null,
            "align_self": null,
            "border": null,
            "bottom": null,
            "display": null,
            "flex": null,
            "flex_flow": null,
            "grid_area": null,
            "grid_auto_columns": null,
            "grid_auto_flow": null,
            "grid_auto_rows": null,
            "grid_column": null,
            "grid_gap": null,
            "grid_row": null,
            "grid_template_areas": null,
            "grid_template_columns": null,
            "grid_template_rows": null,
            "height": null,
            "justify_content": null,
            "justify_items": null,
            "left": null,
            "margin": null,
            "max_height": null,
            "max_width": null,
            "min_height": null,
            "min_width": null,
            "object_fit": null,
            "object_position": null,
            "order": null,
            "overflow": null,
            "overflow_x": null,
            "overflow_y": null,
            "padding": null,
            "right": null,
            "top": null,
            "visibility": null,
            "width": null
          }
        },
        "a9e6a6772cc741b19b24c0b1d8d61ea2": {
          "model_module": "@jupyter-widgets/base",
          "model_name": "LayoutModel",
          "model_module_version": "1.2.0",
          "state": {
            "_model_module": "@jupyter-widgets/base",
            "_model_module_version": "1.2.0",
            "_model_name": "LayoutModel",
            "_view_count": null,
            "_view_module": "@jupyter-widgets/base",
            "_view_module_version": "1.2.0",
            "_view_name": "LayoutView",
            "align_content": null,
            "align_items": null,
            "align_self": null,
            "border": null,
            "bottom": null,
            "display": null,
            "flex": null,
            "flex_flow": null,
            "grid_area": null,
            "grid_auto_columns": null,
            "grid_auto_flow": null,
            "grid_auto_rows": null,
            "grid_column": null,
            "grid_gap": null,
            "grid_row": null,
            "grid_template_areas": null,
            "grid_template_columns": null,
            "grid_template_rows": null,
            "height": null,
            "justify_content": null,
            "justify_items": null,
            "left": null,
            "margin": null,
            "max_height": null,
            "max_width": null,
            "min_height": null,
            "min_width": null,
            "object_fit": null,
            "object_position": null,
            "order": null,
            "overflow": null,
            "overflow_x": null,
            "overflow_y": null,
            "padding": null,
            "right": null,
            "top": null,
            "visibility": null,
            "width": null
          }
        },
        "f6e853b2a22e4b0392c53a1949f03758": {
          "model_module": "@jupyter-widgets/controls",
          "model_name": "DescriptionStyleModel",
          "model_module_version": "1.5.0",
          "state": {
            "_model_module": "@jupyter-widgets/controls",
            "_model_module_version": "1.5.0",
            "_model_name": "DescriptionStyleModel",
            "_view_count": null,
            "_view_module": "@jupyter-widgets/base",
            "_view_module_version": "1.2.0",
            "_view_name": "StyleView",
            "description_width": ""
          }
        },
        "208624c8f46c49a2bdadd20031240ee1": {
          "model_module": "@jupyter-widgets/base",
          "model_name": "LayoutModel",
          "model_module_version": "1.2.0",
          "state": {
            "_model_module": "@jupyter-widgets/base",
            "_model_module_version": "1.2.0",
            "_model_name": "LayoutModel",
            "_view_count": null,
            "_view_module": "@jupyter-widgets/base",
            "_view_module_version": "1.2.0",
            "_view_name": "LayoutView",
            "align_content": null,
            "align_items": null,
            "align_self": null,
            "border": null,
            "bottom": null,
            "display": null,
            "flex": null,
            "flex_flow": null,
            "grid_area": null,
            "grid_auto_columns": null,
            "grid_auto_flow": null,
            "grid_auto_rows": null,
            "grid_column": null,
            "grid_gap": null,
            "grid_row": null,
            "grid_template_areas": null,
            "grid_template_columns": null,
            "grid_template_rows": null,
            "height": null,
            "justify_content": null,
            "justify_items": null,
            "left": null,
            "margin": null,
            "max_height": null,
            "max_width": null,
            "min_height": null,
            "min_width": null,
            "object_fit": null,
            "object_position": null,
            "order": null,
            "overflow": null,
            "overflow_x": null,
            "overflow_y": null,
            "padding": null,
            "right": null,
            "top": null,
            "visibility": null,
            "width": null
          }
        },
        "101ece89872b4c4e934da1180a846e7b": {
          "model_module": "@jupyter-widgets/controls",
          "model_name": "ProgressStyleModel",
          "model_module_version": "1.5.0",
          "state": {
            "_model_module": "@jupyter-widgets/controls",
            "_model_module_version": "1.5.0",
            "_model_name": "ProgressStyleModel",
            "_view_count": null,
            "_view_module": "@jupyter-widgets/base",
            "_view_module_version": "1.2.0",
            "_view_name": "StyleView",
            "bar_color": null,
            "description_width": ""
          }
        },
        "d9cf2452b7b64c29b2a9939c6afc458e": {
          "model_module": "@jupyter-widgets/base",
          "model_name": "LayoutModel",
          "model_module_version": "1.2.0",
          "state": {
            "_model_module": "@jupyter-widgets/base",
            "_model_module_version": "1.2.0",
            "_model_name": "LayoutModel",
            "_view_count": null,
            "_view_module": "@jupyter-widgets/base",
            "_view_module_version": "1.2.0",
            "_view_name": "LayoutView",
            "align_content": null,
            "align_items": null,
            "align_self": null,
            "border": null,
            "bottom": null,
            "display": null,
            "flex": null,
            "flex_flow": null,
            "grid_area": null,
            "grid_auto_columns": null,
            "grid_auto_flow": null,
            "grid_auto_rows": null,
            "grid_column": null,
            "grid_gap": null,
            "grid_row": null,
            "grid_template_areas": null,
            "grid_template_columns": null,
            "grid_template_rows": null,
            "height": null,
            "justify_content": null,
            "justify_items": null,
            "left": null,
            "margin": null,
            "max_height": null,
            "max_width": null,
            "min_height": null,
            "min_width": null,
            "object_fit": null,
            "object_position": null,
            "order": null,
            "overflow": null,
            "overflow_x": null,
            "overflow_y": null,
            "padding": null,
            "right": null,
            "top": null,
            "visibility": null,
            "width": null
          }
        },
        "84aa089e4ce94c29b0711aa0d98a81bb": {
          "model_module": "@jupyter-widgets/controls",
          "model_name": "DescriptionStyleModel",
          "model_module_version": "1.5.0",
          "state": {
            "_model_module": "@jupyter-widgets/controls",
            "_model_module_version": "1.5.0",
            "_model_name": "DescriptionStyleModel",
            "_view_count": null,
            "_view_module": "@jupyter-widgets/base",
            "_view_module_version": "1.2.0",
            "_view_name": "StyleView",
            "description_width": ""
          }
        }
      }
    }
  },
  "nbformat": 4,
  "nbformat_minor": 0
}