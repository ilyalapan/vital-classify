{
 "cells": [
  {
   "cell_type": "markdown",
   "metadata": {
    "id": "Bpzhyebbr5FZ"
   },
   "source": [
    "## For Colab only"
   ]
  },
  {
   "cell_type": "code",
   "execution_count": 1,
   "metadata": {
    "colab": {
     "base_uri": "https://localhost:8080/"
    },
    "id": "dbJeQLjLr4KV",
    "outputId": "a5227e4d-66f9-4eb9-efa2-0c42d600de70"
   },
   "outputs": [
    {
     "name": "stdout",
     "output_type": "stream",
     "text": [
      "Cloning into 'news_classifier'...\n",
      "remote: Enumerating objects: 36, done.\u001b[K\n",
      "remote: Counting objects: 100% (36/36), done.\u001b[K\n",
      "remote: Compressing objects: 100% (25/25), done.\u001b[K\n",
      "remote: Total 36 (delta 13), reused 18 (delta 6), pack-reused 0\u001b[K\n",
      "Unpacking objects: 100% (36/36), done.\n"
     ]
    }
   ],
   "source": [
    "!git clone https://github.com/maftukh/news_classifier.git"
   ]
  },
  {
   "cell_type": "code",
   "execution_count": 2,
   "metadata": {
    "colab": {
     "base_uri": "https://localhost:8080/"
    },
    "id": "PUxVhOH2sXIO",
    "outputId": "b2a0e83f-4eca-4095-a021-b0e6d98d8352"
   },
   "outputs": [
    {
     "name": "stdout",
     "output_type": "stream",
     "text": [
      "bert_classification_model.ipynb\t\t      data     evals.py  optim.py\n",
      "bert_classification_model_with_modules.ipynb  data.py  model.py  README.md\n"
     ]
    }
   ],
   "source": [
    "!ls news_classifier/"
   ]
  },
  {
   "cell_type": "code",
   "execution_count": 3,
   "metadata": {
    "colab": {
     "base_uri": "https://localhost:8080/"
    },
    "id": "-5WD-MVJuEoQ",
    "outputId": "39eb258e-d2c3-4564-e465-796f37643d9e"
   },
   "outputs": [
    {
     "name": "stdout",
     "output_type": "stream",
     "text": [
      "Mounted at /content/gdrive\n"
     ]
    }
   ],
   "source": [
    "from google.colab import drive\n",
    "drive.mount('/content/gdrive')"
   ]
  },
  {
   "cell_type": "code",
   "execution_count": 4,
   "metadata": {
    "id": "-vhwB7UZuG3c"
   },
   "outputs": [],
   "source": [
    "# Fix the path to get the correct model\n",
    "!mkdir ./news_classifier/model/\n",
    "!cp /content/gdrive/MyDrive/data/news_cat/model/finetuned_pytorch_model_32_ep5.bin ./news_classifier/model/"
   ]
  },
  {
   "cell_type": "markdown",
   "metadata": {
    "id": "AKOLANsLsccC"
   },
   "source": [
    "## Imports"
   ]
  },
  {
   "cell_type": "code",
   "execution_count": 1,
   "metadata": {
    "ExecuteTime": {
     "end_time": "2022-04-08T12:49:43.702168Z",
     "start_time": "2022-04-08T12:49:42.326206Z"
    },
    "colab": {
     "base_uri": "https://localhost:8080/"
    },
    "id": "lgBoMxp0FMI3",
    "outputId": "00e8971f-5d78-445c-a280-b10a68927d33"
   },
   "outputs": [
    {
     "name": "stdout",
     "output_type": "stream",
     "text": [
      "Requirement already satisfied: pytorch-pretrained-bert in /home/saydash/skoltech/.venv/lib/python3.8/site-packages (0.6.2)\n",
      "Requirement already satisfied: boto3 in /home/saydash/skoltech/.venv/lib/python3.8/site-packages (from pytorch-pretrained-bert) (1.21.35)\n",
      "Requirement already satisfied: numpy in /home/saydash/skoltech/.venv/lib/python3.8/site-packages (from pytorch-pretrained-bert) (1.19.0)\n",
      "Requirement already satisfied: regex in /home/saydash/skoltech/.venv/lib/python3.8/site-packages (from pytorch-pretrained-bert) (2021.11.10)\n",
      "Requirement already satisfied: tqdm in /home/saydash/skoltech/.venv/lib/python3.8/site-packages (from pytorch-pretrained-bert) (4.62.3)\n",
      "Requirement already satisfied: requests in /home/saydash/skoltech/.venv/lib/python3.8/site-packages (from pytorch-pretrained-bert) (2.26.0)\n",
      "Requirement already satisfied: torch>=0.4.1 in /home/saydash/skoltech/.venv/lib/python3.8/site-packages (from pytorch-pretrained-bert) (1.10.0)\n",
      "Requirement already satisfied: typing-extensions in /home/saydash/skoltech/.venv/lib/python3.8/site-packages (from torch>=0.4.1->pytorch-pretrained-bert) (3.10.0.2)\n",
      "Requirement already satisfied: s3transfer<0.6.0,>=0.5.0 in /home/saydash/skoltech/.venv/lib/python3.8/site-packages (from boto3->pytorch-pretrained-bert) (0.5.2)\n",
      "Requirement already satisfied: jmespath<2.0.0,>=0.7.1 in /home/saydash/skoltech/.venv/lib/python3.8/site-packages (from boto3->pytorch-pretrained-bert) (1.0.0)\n",
      "Requirement already satisfied: botocore<1.25.0,>=1.24.35 in /home/saydash/skoltech/.venv/lib/python3.8/site-packages (from boto3->pytorch-pretrained-bert) (1.24.35)\n",
      "Requirement already satisfied: urllib3<1.27,>=1.25.4 in /home/saydash/skoltech/.venv/lib/python3.8/site-packages (from botocore<1.25.0,>=1.24.35->boto3->pytorch-pretrained-bert) (1.26.7)\n",
      "Requirement already satisfied: python-dateutil<3.0.0,>=2.1 in /home/saydash/skoltech/.venv/lib/python3.8/site-packages (from botocore<1.25.0,>=1.24.35->boto3->pytorch-pretrained-bert) (2.8.2)\n",
      "Requirement already satisfied: six>=1.5 in /home/saydash/skoltech/.venv/lib/python3.8/site-packages (from python-dateutil<3.0.0,>=2.1->botocore<1.25.0,>=1.24.35->boto3->pytorch-pretrained-bert) (1.16.0)\n",
      "Requirement already satisfied: certifi>=2017.4.17 in /home/saydash/skoltech/.venv/lib/python3.8/site-packages (from requests->pytorch-pretrained-bert) (2021.10.8)\n",
      "Requirement already satisfied: charset-normalizer~=2.0.0 in /home/saydash/skoltech/.venv/lib/python3.8/site-packages (from requests->pytorch-pretrained-bert) (2.0.8)\n",
      "Requirement already satisfied: idna<4,>=2.5 in /home/saydash/skoltech/.venv/lib/python3.8/site-packages (from requests->pytorch-pretrained-bert) (3.3)\n",
      "\u001b[33mWARNING: You are using pip version 21.1.1; however, version 22.0.4 is available.\n",
      "You should consider upgrading via the '/home/saydash/skoltech/.venv/bin/python -m pip install --upgrade pip' command.\u001b[0m\n"
     ]
    }
   ],
   "source": [
    "!pip install pytorch-pretrained-bert"
   ]
  },
  {
   "cell_type": "code",
   "execution_count": 11,
   "metadata": {
    "ExecuteTime": {
     "end_time": "2022-04-11T08:36:51.846613Z",
     "start_time": "2022-04-11T08:36:51.806981Z"
    },
    "id": "Qnr9wBI-FGi0"
   },
   "outputs": [],
   "source": [
    "import os\n",
    "import json\n",
    "import sys\n",
    "import random\n",
    "from pathlib import Path\n",
    "\n",
    "# Third-party packages\n",
    "import numpy as np\n",
    "import pandas as pd\n",
    "from pytorch_pretrained_bert.tokenization import BertTokenizer\n",
    "import torch\n",
    "from tqdm.notebook import tqdm, trange\n",
    "\n",
    "sys.path.append('/content/news_classifier')\n",
    "\n",
    "# Custom imports\n",
    "import model\n",
    "import data\n",
    "import evals\n",
    "import optim\n",
    "\n"
   ]
  },
  {
   "cell_type": "code",
   "execution_count": 2,
   "metadata": {
    "ExecuteTime": {
     "end_time": "2022-04-11T08:36:22.139524Z",
     "start_time": "2022-04-11T08:36:22.116454Z"
    },
    "id": "S91c47gyr1Il"
   },
   "outputs": [],
   "source": [
    "# To make sure custom modules are up-to-date by the time of each call\n",
    "%load_ext autoreload\n",
    "%autoreload 2"
   ]
  },
  {
   "cell_type": "markdown",
   "metadata": {
    "id": "8fpcnkD6FGi-"
   },
   "source": [
    "## Model Parameters"
   ]
  },
  {
   "cell_type": "code",
   "execution_count": 3,
   "metadata": {
    "ExecuteTime": {
     "end_time": "2022-04-11T08:36:22.480168Z",
     "start_time": "2022-04-11T08:36:22.455436Z"
    },
    "id": "bi7m2lP-FGi_"
   },
   "outputs": [],
   "source": [
    "DATA_PATH = Path('data/')\n",
    "MODEL_PATH = Path('model/')\n",
    "\n",
    "args = {\n",
    "    \"data_dir\": DATA_PATH,\n",
    "    \"output_dir\": MODEL_PATH,\n",
    "    \"ckpt_name\": 'pretrain.ckpt', # Файл с которого хочется продолжить обучение\n",
    "    \n",
    "    \"task_name\": \"news_cat_label\",\n",
    "    \"bert_model\": 'bert-base-uncased',  # оптимальная моделька с точки зрения веса, вряд ли стоит менять\n",
    "    \"do_lower_case\": True,\n",
    "    \n",
    "    \"max_seq_length\": 32, # Сколько слов из колонки 'text' используется в модели\n",
    "    \"batch_size\": 128, # размер батча на входе в модель\n",
    "    'eval_steps': 500, # Через сколько шагов делать промежуточную оценку модели\n",
    "    \n",
    "    \"learning_rate\": 3e-5,\n",
    "    \"num_train_epochs\": 5.0,\n",
    "    \"warmup_proportion\": 0., # При .1 - первые 10% шагов обучения будут плавными, чтоб избежать взрыва градиентов \n",
    "\n",
    "    \"no_cuda\": False, # Если есть cuda, но почему-то не хочешь юзать\n",
    "    \"seed\": 42,\n",
    "}\n",
    "\n"
   ]
  },
  {
   "cell_type": "code",
   "execution_count": 4,
   "metadata": {
    "ExecuteTime": {
     "end_time": "2022-04-11T08:36:23.030353Z",
     "start_time": "2022-04-11T08:36:22.998931Z"
    },
    "id": "niEnHpNbFGji"
   },
   "outputs": [],
   "source": [
    "def set_random_seeds(seed):\n",
    "    random.seed(seed)\n",
    "    np.random.seed(seed)\n",
    "    torch.manual_seed(seed)\n",
    "    if torch.cuda.is_available():\n",
    "        torch.cuda.manual_seed_all(seed)"
   ]
  },
  {
   "cell_type": "code",
   "execution_count": 5,
   "metadata": {
    "ExecuteTime": {
     "end_time": "2022-04-11T08:36:23.320791Z",
     "start_time": "2022-04-11T08:36:23.292485Z"
    },
    "id": "bZUIhiryFGje"
   },
   "outputs": [],
   "source": [
    "# Setup GPU parameters\n",
    "args['device'] = torch.device(\"cuda\" if torch.cuda.is_available() and not args[\"no_cuda\"] else \"cpu\")\n",
    "\n",
    "set_random_seeds(args['seed'])"
   ]
  },
  {
   "cell_type": "code",
   "execution_count": 6,
   "metadata": {
    "ExecuteTime": {
     "end_time": "2022-04-11T08:36:23.890231Z",
     "start_time": "2022-04-11T08:36:23.853075Z"
    },
    "id": "m8suajGgFGi4"
   },
   "outputs": [],
   "source": [
    "import logging\n",
    "logging.basicConfig(format='%(asctime)s - %(levelname)s - %(name)s -   %(message)s',\n",
    "                    datefmt='%m/%d/%Y %H:%M:%S',\n",
    "                    level=logging.INFO)\n",
    "args['logger'] = logging.getLogger(__name__)"
   ]
  },
  {
   "cell_type": "code",
   "execution_count": 7,
   "metadata": {
    "ExecuteTime": {
     "end_time": "2022-04-11T08:36:25.092062Z",
     "start_time": "2022-04-11T08:36:25.046957Z"
    },
    "colab": {
     "base_uri": "https://localhost:8080/"
    },
    "id": "NaVK3f8HFGjo",
    "outputId": "a90d8605-dffb-4769-bfd5-6aa7bff838b3"
   },
   "outputs": [
    {
     "data": {
      "text/plain": [
       "(18,\n",
       " ['ENTERTAINMENT',\n",
       "  'WORLD NEWS',\n",
       "  'OTHER',\n",
       "  'POLITICS',\n",
       "  'WOMEN',\n",
       "  'SPORTS',\n",
       "  'BUSINESS',\n",
       "  'TRAVEL',\n",
       "  'TECH',\n",
       "  'RELIGION',\n",
       "  'SCIENCE',\n",
       "  'ARTS',\n",
       "  'STYLE',\n",
       "  'ENVIRONMENT',\n",
       "  'FOOD & DRINK',\n",
       "  'HEALTHY LIVING',\n",
       "  'HOME & LIVING',\n",
       "  'MONEY'])"
      ]
     },
     "execution_count": 7,
     "metadata": {},
     "output_type": "execute_result"
    }
   ],
   "source": [
    "# args['label_list'] = np.sort(df.category.unique()) - в будущем для обучения лучше так. У меня просто модель со след списком обучилась:\n",
    "args['label_list'] = ['ENTERTAINMENT', 'WORLD NEWS', 'OTHER', 'POLITICS', 'WOMEN', 'SPORTS',\n",
    "       'BUSINESS', 'TRAVEL', 'TECH', 'RELIGION', 'SCIENCE', 'ARTS', 'STYLE',\n",
    "       'ENVIRONMENT', 'FOOD & DRINK', 'HEALTHY LIVING', 'HOME & LIVING',\n",
    "       'MONEY']\n",
    "args['num_labels'] = len(args['label_list'])\n",
    "args['num_labels'], args['label_list']    "
   ]
  },
  {
   "cell_type": "code",
   "execution_count": 8,
   "metadata": {
    "ExecuteTime": {
     "end_time": "2022-04-11T08:36:32.650437Z",
     "start_time": "2022-04-11T08:36:25.782214Z"
    },
    "colab": {
     "base_uri": "https://localhost:8080/"
    },
    "id": "pSm7wuMHr1Iw",
    "outputId": "c2164a63-2481-4202-96ba-81d62a8df2a3"
   },
   "outputs": [
    {
     "name": "stderr",
     "output_type": "stream",
     "text": [
      "04/11/2022 11:36:32 - INFO - pytorch_pretrained_bert.tokenization -   loading vocabulary file https://s3.amazonaws.com/models.huggingface.co/bert/bert-base-uncased-vocab.txt from cache at /home/saydash/.pytorch_pretrained_bert/26bc1ad6c0ac742e9b52263248f6d0f00068293b33709fae12320c0e35ccfbbb.542ce4285a40d23a559526243235df47c5f75c197f04f37d1a0c124c32c9a084\n"
     ]
    }
   ],
   "source": [
    "processor = data.LabelTextProcessor(args['data_dir'], labels=args['label_list'])\n",
    "tokenizer = BertTokenizer.from_pretrained(args['bert_model'], do_lower_case=args['do_lower_case'])"
   ]
  },
  {
   "cell_type": "markdown",
   "metadata": {
    "id": "1zzWAr0GHLBn"
   },
   "source": [
    "### Prepare model"
   ]
  },
  {
   "cell_type": "code",
   "execution_count": 9,
   "metadata": {
    "ExecuteTime": {
     "end_time": "2022-04-11T08:36:38.688701Z",
     "start_time": "2022-04-11T08:36:32.652418Z"
    },
    "id": "CuiL7uQgr1Iz"
   },
   "outputs": [
    {
     "name": "stderr",
     "output_type": "stream",
     "text": [
      "04/11/2022 11:36:33 - INFO - pytorch_pretrained_bert.modeling -   loading archive file https://s3.amazonaws.com/models.huggingface.co/bert/bert-base-uncased.tar.gz from cache at /home/saydash/.pytorch_pretrained_bert/9c41111e2de84547a463fd39217199738d1e3deb72d4fec4399e6e241983c6f0.ae3cef932725ca7a30cdcb93fc6e09150a55e2a130ec7af63975a16c153ae2ba\n",
      "04/11/2022 11:36:33 - INFO - pytorch_pretrained_bert.modeling -   extracting archive file /home/saydash/.pytorch_pretrained_bert/9c41111e2de84547a463fd39217199738d1e3deb72d4fec4399e6e241983c6f0.ae3cef932725ca7a30cdcb93fc6e09150a55e2a130ec7af63975a16c153ae2ba to temp dir /tmp/tmpakw4qowg\n",
      "04/11/2022 11:36:36 - INFO - pytorch_pretrained_bert.modeling -   Model config {\n",
      "  \"attention_probs_dropout_prob\": 0.1,\n",
      "  \"hidden_act\": \"gelu\",\n",
      "  \"hidden_dropout_prob\": 0.1,\n",
      "  \"hidden_size\": 768,\n",
      "  \"initializer_range\": 0.02,\n",
      "  \"intermediate_size\": 3072,\n",
      "  \"max_position_embeddings\": 512,\n",
      "  \"num_attention_heads\": 12,\n",
      "  \"num_hidden_layers\": 12,\n",
      "  \"type_vocab_size\": 2,\n",
      "  \"vocab_size\": 30522\n",
      "}\n",
      "\n"
     ]
    },
    {
     "data": {
      "text/plain": [
       "BertForSequenceClassification(\n",
       "  (bert): BertModel(\n",
       "    (embeddings): BertEmbeddings(\n",
       "      (word_embeddings): Embedding(30522, 768, padding_idx=0)\n",
       "      (position_embeddings): Embedding(512, 768)\n",
       "      (token_type_embeddings): Embedding(2, 768)\n",
       "      (LayerNorm): BertLayerNorm()\n",
       "      (dropout): Dropout(p=0.1, inplace=False)\n",
       "    )\n",
       "    (encoder): BertEncoder(\n",
       "      (layer): ModuleList(\n",
       "        (0): BertLayer(\n",
       "          (attention): BertAttention(\n",
       "            (self): BertSelfAttention(\n",
       "              (query): Linear(in_features=768, out_features=768, bias=True)\n",
       "              (key): Linear(in_features=768, out_features=768, bias=True)\n",
       "              (value): Linear(in_features=768, out_features=768, bias=True)\n",
       "              (dropout): Dropout(p=0.1, inplace=False)\n",
       "            )\n",
       "            (output): BertSelfOutput(\n",
       "              (dense): Linear(in_features=768, out_features=768, bias=True)\n",
       "              (LayerNorm): BertLayerNorm()\n",
       "              (dropout): Dropout(p=0.1, inplace=False)\n",
       "            )\n",
       "          )\n",
       "          (intermediate): BertIntermediate(\n",
       "            (dense): Linear(in_features=768, out_features=3072, bias=True)\n",
       "          )\n",
       "          (output): BertOutput(\n",
       "            (dense): Linear(in_features=3072, out_features=768, bias=True)\n",
       "            (LayerNorm): BertLayerNorm()\n",
       "            (dropout): Dropout(p=0.1, inplace=False)\n",
       "          )\n",
       "        )\n",
       "        (1): BertLayer(\n",
       "          (attention): BertAttention(\n",
       "            (self): BertSelfAttention(\n",
       "              (query): Linear(in_features=768, out_features=768, bias=True)\n",
       "              (key): Linear(in_features=768, out_features=768, bias=True)\n",
       "              (value): Linear(in_features=768, out_features=768, bias=True)\n",
       "              (dropout): Dropout(p=0.1, inplace=False)\n",
       "            )\n",
       "            (output): BertSelfOutput(\n",
       "              (dense): Linear(in_features=768, out_features=768, bias=True)\n",
       "              (LayerNorm): BertLayerNorm()\n",
       "              (dropout): Dropout(p=0.1, inplace=False)\n",
       "            )\n",
       "          )\n",
       "          (intermediate): BertIntermediate(\n",
       "            (dense): Linear(in_features=768, out_features=3072, bias=True)\n",
       "          )\n",
       "          (output): BertOutput(\n",
       "            (dense): Linear(in_features=3072, out_features=768, bias=True)\n",
       "            (LayerNorm): BertLayerNorm()\n",
       "            (dropout): Dropout(p=0.1, inplace=False)\n",
       "          )\n",
       "        )\n",
       "        (2): BertLayer(\n",
       "          (attention): BertAttention(\n",
       "            (self): BertSelfAttention(\n",
       "              (query): Linear(in_features=768, out_features=768, bias=True)\n",
       "              (key): Linear(in_features=768, out_features=768, bias=True)\n",
       "              (value): Linear(in_features=768, out_features=768, bias=True)\n",
       "              (dropout): Dropout(p=0.1, inplace=False)\n",
       "            )\n",
       "            (output): BertSelfOutput(\n",
       "              (dense): Linear(in_features=768, out_features=768, bias=True)\n",
       "              (LayerNorm): BertLayerNorm()\n",
       "              (dropout): Dropout(p=0.1, inplace=False)\n",
       "            )\n",
       "          )\n",
       "          (intermediate): BertIntermediate(\n",
       "            (dense): Linear(in_features=768, out_features=3072, bias=True)\n",
       "          )\n",
       "          (output): BertOutput(\n",
       "            (dense): Linear(in_features=3072, out_features=768, bias=True)\n",
       "            (LayerNorm): BertLayerNorm()\n",
       "            (dropout): Dropout(p=0.1, inplace=False)\n",
       "          )\n",
       "        )\n",
       "        (3): BertLayer(\n",
       "          (attention): BertAttention(\n",
       "            (self): BertSelfAttention(\n",
       "              (query): Linear(in_features=768, out_features=768, bias=True)\n",
       "              (key): Linear(in_features=768, out_features=768, bias=True)\n",
       "              (value): Linear(in_features=768, out_features=768, bias=True)\n",
       "              (dropout): Dropout(p=0.1, inplace=False)\n",
       "            )\n",
       "            (output): BertSelfOutput(\n",
       "              (dense): Linear(in_features=768, out_features=768, bias=True)\n",
       "              (LayerNorm): BertLayerNorm()\n",
       "              (dropout): Dropout(p=0.1, inplace=False)\n",
       "            )\n",
       "          )\n",
       "          (intermediate): BertIntermediate(\n",
       "            (dense): Linear(in_features=768, out_features=3072, bias=True)\n",
       "          )\n",
       "          (output): BertOutput(\n",
       "            (dense): Linear(in_features=3072, out_features=768, bias=True)\n",
       "            (LayerNorm): BertLayerNorm()\n",
       "            (dropout): Dropout(p=0.1, inplace=False)\n",
       "          )\n",
       "        )\n",
       "        (4): BertLayer(\n",
       "          (attention): BertAttention(\n",
       "            (self): BertSelfAttention(\n",
       "              (query): Linear(in_features=768, out_features=768, bias=True)\n",
       "              (key): Linear(in_features=768, out_features=768, bias=True)\n",
       "              (value): Linear(in_features=768, out_features=768, bias=True)\n",
       "              (dropout): Dropout(p=0.1, inplace=False)\n",
       "            )\n",
       "            (output): BertSelfOutput(\n",
       "              (dense): Linear(in_features=768, out_features=768, bias=True)\n",
       "              (LayerNorm): BertLayerNorm()\n",
       "              (dropout): Dropout(p=0.1, inplace=False)\n",
       "            )\n",
       "          )\n",
       "          (intermediate): BertIntermediate(\n",
       "            (dense): Linear(in_features=768, out_features=3072, bias=True)\n",
       "          )\n",
       "          (output): BertOutput(\n",
       "            (dense): Linear(in_features=3072, out_features=768, bias=True)\n",
       "            (LayerNorm): BertLayerNorm()\n",
       "            (dropout): Dropout(p=0.1, inplace=False)\n",
       "          )\n",
       "        )\n",
       "        (5): BertLayer(\n",
       "          (attention): BertAttention(\n",
       "            (self): BertSelfAttention(\n",
       "              (query): Linear(in_features=768, out_features=768, bias=True)\n",
       "              (key): Linear(in_features=768, out_features=768, bias=True)\n",
       "              (value): Linear(in_features=768, out_features=768, bias=True)\n",
       "              (dropout): Dropout(p=0.1, inplace=False)\n",
       "            )\n",
       "            (output): BertSelfOutput(\n",
       "              (dense): Linear(in_features=768, out_features=768, bias=True)\n",
       "              (LayerNorm): BertLayerNorm()\n",
       "              (dropout): Dropout(p=0.1, inplace=False)\n",
       "            )\n",
       "          )\n",
       "          (intermediate): BertIntermediate(\n",
       "            (dense): Linear(in_features=768, out_features=3072, bias=True)\n",
       "          )\n",
       "          (output): BertOutput(\n",
       "            (dense): Linear(in_features=3072, out_features=768, bias=True)\n",
       "            (LayerNorm): BertLayerNorm()\n",
       "            (dropout): Dropout(p=0.1, inplace=False)\n",
       "          )\n",
       "        )\n",
       "        (6): BertLayer(\n",
       "          (attention): BertAttention(\n",
       "            (self): BertSelfAttention(\n",
       "              (query): Linear(in_features=768, out_features=768, bias=True)\n",
       "              (key): Linear(in_features=768, out_features=768, bias=True)\n",
       "              (value): Linear(in_features=768, out_features=768, bias=True)\n",
       "              (dropout): Dropout(p=0.1, inplace=False)\n",
       "            )\n",
       "            (output): BertSelfOutput(\n",
       "              (dense): Linear(in_features=768, out_features=768, bias=True)\n",
       "              (LayerNorm): BertLayerNorm()\n",
       "              (dropout): Dropout(p=0.1, inplace=False)\n",
       "            )\n",
       "          )\n",
       "          (intermediate): BertIntermediate(\n",
       "            (dense): Linear(in_features=768, out_features=3072, bias=True)\n",
       "          )\n",
       "          (output): BertOutput(\n",
       "            (dense): Linear(in_features=3072, out_features=768, bias=True)\n",
       "            (LayerNorm): BertLayerNorm()\n",
       "            (dropout): Dropout(p=0.1, inplace=False)\n",
       "          )\n",
       "        )\n",
       "        (7): BertLayer(\n",
       "          (attention): BertAttention(\n",
       "            (self): BertSelfAttention(\n",
       "              (query): Linear(in_features=768, out_features=768, bias=True)\n",
       "              (key): Linear(in_features=768, out_features=768, bias=True)\n",
       "              (value): Linear(in_features=768, out_features=768, bias=True)\n",
       "              (dropout): Dropout(p=0.1, inplace=False)\n",
       "            )\n",
       "            (output): BertSelfOutput(\n",
       "              (dense): Linear(in_features=768, out_features=768, bias=True)\n",
       "              (LayerNorm): BertLayerNorm()\n",
       "              (dropout): Dropout(p=0.1, inplace=False)\n",
       "            )\n",
       "          )\n",
       "          (intermediate): BertIntermediate(\n",
       "            (dense): Linear(in_features=768, out_features=3072, bias=True)\n",
       "          )\n",
       "          (output): BertOutput(\n",
       "            (dense): Linear(in_features=3072, out_features=768, bias=True)\n",
       "            (LayerNorm): BertLayerNorm()\n",
       "            (dropout): Dropout(p=0.1, inplace=False)\n",
       "          )\n",
       "        )\n",
       "        (8): BertLayer(\n",
       "          (attention): BertAttention(\n",
       "            (self): BertSelfAttention(\n",
       "              (query): Linear(in_features=768, out_features=768, bias=True)\n",
       "              (key): Linear(in_features=768, out_features=768, bias=True)\n",
       "              (value): Linear(in_features=768, out_features=768, bias=True)\n",
       "              (dropout): Dropout(p=0.1, inplace=False)\n",
       "            )\n",
       "            (output): BertSelfOutput(\n",
       "              (dense): Linear(in_features=768, out_features=768, bias=True)\n",
       "              (LayerNorm): BertLayerNorm()\n",
       "              (dropout): Dropout(p=0.1, inplace=False)\n",
       "            )\n",
       "          )\n",
       "          (intermediate): BertIntermediate(\n",
       "            (dense): Linear(in_features=768, out_features=3072, bias=True)\n",
       "          )\n",
       "          (output): BertOutput(\n",
       "            (dense): Linear(in_features=3072, out_features=768, bias=True)\n",
       "            (LayerNorm): BertLayerNorm()\n",
       "            (dropout): Dropout(p=0.1, inplace=False)\n",
       "          )\n",
       "        )\n",
       "        (9): BertLayer(\n",
       "          (attention): BertAttention(\n",
       "            (self): BertSelfAttention(\n",
       "              (query): Linear(in_features=768, out_features=768, bias=True)\n",
       "              (key): Linear(in_features=768, out_features=768, bias=True)\n",
       "              (value): Linear(in_features=768, out_features=768, bias=True)\n",
       "              (dropout): Dropout(p=0.1, inplace=False)\n",
       "            )\n",
       "            (output): BertSelfOutput(\n",
       "              (dense): Linear(in_features=768, out_features=768, bias=True)\n",
       "              (LayerNorm): BertLayerNorm()\n",
       "              (dropout): Dropout(p=0.1, inplace=False)\n",
       "            )\n",
       "          )\n",
       "          (intermediate): BertIntermediate(\n",
       "            (dense): Linear(in_features=768, out_features=3072, bias=True)\n",
       "          )\n",
       "          (output): BertOutput(\n",
       "            (dense): Linear(in_features=3072, out_features=768, bias=True)\n",
       "            (LayerNorm): BertLayerNorm()\n",
       "            (dropout): Dropout(p=0.1, inplace=False)\n",
       "          )\n",
       "        )\n",
       "        (10): BertLayer(\n",
       "          (attention): BertAttention(\n",
       "            (self): BertSelfAttention(\n",
       "              (query): Linear(in_features=768, out_features=768, bias=True)\n",
       "              (key): Linear(in_features=768, out_features=768, bias=True)\n",
       "              (value): Linear(in_features=768, out_features=768, bias=True)\n",
       "              (dropout): Dropout(p=0.1, inplace=False)\n",
       "            )\n",
       "            (output): BertSelfOutput(\n",
       "              (dense): Linear(in_features=768, out_features=768, bias=True)\n",
       "              (LayerNorm): BertLayerNorm()\n",
       "              (dropout): Dropout(p=0.1, inplace=False)\n",
       "            )\n",
       "          )\n",
       "          (intermediate): BertIntermediate(\n",
       "            (dense): Linear(in_features=768, out_features=3072, bias=True)\n",
       "          )\n",
       "          (output): BertOutput(\n",
       "            (dense): Linear(in_features=3072, out_features=768, bias=True)\n",
       "            (LayerNorm): BertLayerNorm()\n",
       "            (dropout): Dropout(p=0.1, inplace=False)\n",
       "          )\n",
       "        )\n",
       "        (11): BertLayer(\n",
       "          (attention): BertAttention(\n",
       "            (self): BertSelfAttention(\n",
       "              (query): Linear(in_features=768, out_features=768, bias=True)\n",
       "              (key): Linear(in_features=768, out_features=768, bias=True)\n",
       "              (value): Linear(in_features=768, out_features=768, bias=True)\n",
       "              (dropout): Dropout(p=0.1, inplace=False)\n",
       "            )\n",
       "            (output): BertSelfOutput(\n",
       "              (dense): Linear(in_features=768, out_features=768, bias=True)\n",
       "              (LayerNorm): BertLayerNorm()\n",
       "              (dropout): Dropout(p=0.1, inplace=False)\n",
       "            )\n",
       "          )\n",
       "          (intermediate): BertIntermediate(\n",
       "            (dense): Linear(in_features=768, out_features=3072, bias=True)\n",
       "          )\n",
       "          (output): BertOutput(\n",
       "            (dense): Linear(in_features=3072, out_features=768, bias=True)\n",
       "            (LayerNorm): BertLayerNorm()\n",
       "            (dropout): Dropout(p=0.1, inplace=False)\n",
       "          )\n",
       "        )\n",
       "      )\n",
       "    )\n",
       "    (pooler): BertPooler(\n",
       "      (dense): Linear(in_features=768, out_features=768, bias=True)\n",
       "      (activation): Tanh()\n",
       "    )\n",
       "  )\n",
       "  (dropout): Dropout(p=0.1, inplace=False)\n",
       "  (classifier): Linear(in_features=768, out_features=18, bias=True)\n",
       ")"
      ]
     },
     "execution_count": 9,
     "metadata": {},
     "output_type": "execute_result"
    }
   ],
   "source": [
    "fname = \"finetuned_pytorch_model_32_ep5.bin\"\n",
    "output_model_file = os.path.join(args['output_dir'], fname)\n",
    "\n",
    "bert_model = model.get_model(model_path=output_model_file, \n",
    "                             bert_model=args['bert_model'], \n",
    "                             num_labels=args['num_labels'])\n",
    "bert_model.to(args['device'])"
   ]
  },
  {
   "cell_type": "markdown",
   "metadata": {
    "id": "vdAZuLZ1r1I0"
   },
   "source": [
    "## Make predictions on new data"
   ]
  },
  {
   "cell_type": "markdown",
   "metadata": {
    "id": "R4EOBelrr1Im"
   },
   "source": [
    "### Preprocess data"
   ]
  },
  {
   "cell_type": "code",
   "execution_count": null,
   "metadata": {
    "ExecuteTime": {
     "end_time": "2022-04-07T23:59:52.383158Z",
     "start_time": "2022-04-07T23:59:52.311105Z"
    },
    "id": "uzlElFIxr1I0",
    "outputId": "66ddf306-1105-4132-c78a-a5ae8b21ca85"
   },
   "outputs": [
    {
     "data": {
      "text/html": [
       "<div>\n",
       "<style scoped>\n",
       "    .dataframe tbody tr th:only-of-type {\n",
       "        vertical-align: middle;\n",
       "    }\n",
       "\n",
       "    .dataframe tbody tr th {\n",
       "        vertical-align: top;\n",
       "    }\n",
       "\n",
       "    .dataframe thead th {\n",
       "        text-align: right;\n",
       "    }\n",
       "</style>\n",
       "<table border=\"1\" class=\"dataframe\">\n",
       "  <thead>\n",
       "    <tr style=\"text-align: right;\">\n",
       "      <th></th>\n",
       "      <th>id</th>\n",
       "      <th>title</th>\n",
       "      <th>description</th>\n",
       "      <th>Main</th>\n",
       "      <th>Tags</th>\n",
       "      <th>tag_num</th>\n",
       "      <th>text</th>\n",
       "    </tr>\n",
       "  </thead>\n",
       "  <tbody>\n",
       "    <tr>\n",
       "      <th>0</th>\n",
       "      <td>2090</td>\n",
       "      <td>Biodiversity: What is it and how are we protec...</td>\n",
       "      <td>The planet is experiencing its sixth mass exti...</td>\n",
       "      <td>World</td>\n",
       "      <td>Entertainment,UK,World</td>\n",
       "      <td>3</td>\n",
       "      <td>Biodiversity: What is it and how are we protec...</td>\n",
       "    </tr>\n",
       "    <tr>\n",
       "      <th>1</th>\n",
       "      <td>2091</td>\n",
       "      <td>Amazon union election: Will this former worker...</td>\n",
       "      <td>Workers in three Amazon warehouses are decidin...</td>\n",
       "      <td>World</td>\n",
       "      <td>Entertainment,UK,World</td>\n",
       "      <td>3</td>\n",
       "      <td>Amazon union election: Will this former worker...</td>\n",
       "    </tr>\n",
       "    <tr>\n",
       "      <th>2</th>\n",
       "      <td>2092</td>\n",
       "      <td>Ukraine crisis: Why India is buying more Russi...</td>\n",
       "      <td>Imports of cheaper Russian oil by India are ri...</td>\n",
       "      <td>World</td>\n",
       "      <td>Entertainment,UK,World</td>\n",
       "      <td>3</td>\n",
       "      <td>Ukraine crisis: Why India is buying more Russi...</td>\n",
       "    </tr>\n",
       "    <tr>\n",
       "      <th>3</th>\n",
       "      <td>2093</td>\n",
       "      <td>French election: Why the small town of Moissac...</td>\n",
       "      <td>The relationship between a Bulgarian community...</td>\n",
       "      <td>World</td>\n",
       "      <td>Entertainment,UK,World</td>\n",
       "      <td>3</td>\n",
       "      <td>French election: Why the small town of Moissac...</td>\n",
       "    </tr>\n",
       "    <tr>\n",
       "      <th>4</th>\n",
       "      <td>2096</td>\n",
       "      <td>Roman Abramovich suffered 'suspected poisoning...</td>\n",
       "      <td>The billionaire had sore eyes and peeling skin...</td>\n",
       "      <td>World</td>\n",
       "      <td>Entertainment,UK,World</td>\n",
       "      <td>3</td>\n",
       "      <td>Roman Abramovich suffered 'suspected poisoning...</td>\n",
       "    </tr>\n",
       "  </tbody>\n",
       "</table>\n",
       "</div>"
      ],
      "text/plain": [
       "     id                                              title  \\\n",
       "0  2090  Biodiversity: What is it and how are we protec...   \n",
       "1  2091  Amazon union election: Will this former worker...   \n",
       "2  2092  Ukraine crisis: Why India is buying more Russi...   \n",
       "3  2093  French election: Why the small town of Moissac...   \n",
       "4  2096  Roman Abramovich suffered 'suspected poisoning...   \n",
       "\n",
       "                                         description   Main  \\\n",
       "0  The planet is experiencing its sixth mass exti...  World   \n",
       "1  Workers in three Amazon warehouses are decidin...  World   \n",
       "2  Imports of cheaper Russian oil by India are ri...  World   \n",
       "3  The relationship between a Bulgarian community...  World   \n",
       "4  The billionaire had sore eyes and peeling skin...  World   \n",
       "\n",
       "                     Tags  tag_num  \\\n",
       "0  Entertainment,UK,World        3   \n",
       "1  Entertainment,UK,World        3   \n",
       "2  Entertainment,UK,World        3   \n",
       "3  Entertainment,UK,World        3   \n",
       "4  Entertainment,UK,World        3   \n",
       "\n",
       "                                                text  \n",
       "0  Biodiversity: What is it and how are we protec...  \n",
       "1  Amazon union election: Will this former worker...  \n",
       "2  Ukraine crisis: Why India is buying more Russi...  \n",
       "3  French election: Why the small town of Moissac...  \n",
       "4  Roman Abramovich suffered 'suspected poisoning...  "
      ]
     },
     "execution_count": 72,
     "metadata": {},
     "output_type": "execute_result"
    }
   ],
   "source": [
    "# df_test = pd.read_csv(os.path.join('/content/gdrive/MyDrive/data/news_cat', 'Query Results.csv'))\n",
    "# df_test = df_test.fillna('')\n",
    "# df_test['text'] = df_test.title + ' ' + df_test.description\n",
    "# df_test.to_csv(os.path.join(args['data_dir'], 'new_test.csv'))\n",
    "# df_test.head()"
   ]
  },
  {
   "cell_type": "code",
   "execution_count": 10,
   "metadata": {
    "ExecuteTime": {
     "end_time": "2022-04-08T12:50:03.528287Z",
     "start_time": "2022-04-08T12:50:02.926876Z"
    },
    "colab": {
     "base_uri": "https://localhost:8080/",
     "height": 283
    },
    "id": "UoGUaRotr1I0",
    "outputId": "9aadb5fd-d66e-477b-b0da-e3df2b1bdcfd"
   },
   "outputs": [
    {
     "data": {
      "text/plain": [
       "<AxesSubplot:>"
      ]
     },
     "execution_count": 10,
     "metadata": {},
     "output_type": "execute_result"
    },
    {
     "data": {
      "image/png": "[encoded data removed]",
      "text/plain": [
       "<Figure size 432x288 with 1 Axes>"
      ]
     },
     "metadata": {
      "needs_background": "light"
     },
     "output_type": "display_data"
    }
   ],
   "source": [
    "# Норм - многое даже укладывается в 32 слова\n",
    "df_test = pd.read_csv(os.path.join(args['data_dir'], 'new_test.csv'), index_col=0)\n",
    "df_test.text.str.split().str.len().hist(bins=40)"
   ]
  },
  {
   "cell_type": "markdown",
   "metadata": {
    "id": "jyFYDOfrHIpR"
   },
   "source": [
    "### Predict"
   ]
  },
  {
   "cell_type": "code",
   "execution_count": 13,
   "metadata": {
    "ExecuteTime": {
     "end_time": "2022-04-08T12:52:10.089348Z",
     "start_time": "2022-04-08T12:50:30.212870Z"
    },
    "colab": {
     "base_uri": "https://localhost:8080/",
     "height": 49,
     "referenced_widgets": [
      "039a7c5223534353be63e4d7bee920c0",
      "e47fff04115a40f59d7e0d56d9841691",
      "e9c7fb75b8d444cca99a8d74d706ceda",
      "59feecd4c018450b883dcde4ad880485",
      "317924bcab664ecda41a862476426739",
      "22aa0c3cce2b49c2b2ab9f6ccdc59771",
      "d9a4c22b442145cba6d53452c241b6d8",
      "b2178eb228c34af69f8bd65b4bc8126f",
      "88f3aec0776844c492b7ff3cf174d2c9",
      "4d35130153364c3aaa0ce0c750a6c2c7",
      "77b7b7d7945149bf8b065a8a1ab9e805"
     ]
    },
    "id": "s0YKKx1CFGkS",
    "outputId": "a56c0e96-67f2-4271-e4a0-c8fa1d96b765",
    "scrolled": true
   },
   "outputs": [
    {
     "data": {
      "application/vnd.jupyter.widget-view+json": {
       "model_id": "ac48cb43e0784a17aa03ec74b95e70a3",
       "version_major": 2,
       "version_minor": 0
      },
      "text/plain": [
       "Prediction Iteration:   0%|          | 0/12 [00:00<?, ?it/s]"
      ]
     },
     "metadata": {},
     "output_type": "display_data"
    }
   ],
   "source": [
    "# Results - \"вероятности\" классов\n",
    "# Raw_logits - скоры для каждого класса (которые затем превращены в \"вероятности\" с помощью софтмакса)\n",
    "# embeddings - эмбеддинги (сжатые представления) текстов в векторном виде (размерность 768; если много, можно в условный PCA закинуть и понизить размерность)\n",
    "result, raw_logits, embeddings = evals.predict(bert_model, 'new_test.csv', processor, tokenizer, args)"
   ]
  },
  {
   "cell_type": "code",
   "execution_count": 20,
   "metadata": {
    "colab": {
     "base_uri": "https://localhost:8080/",
     "height": 423
    },
    "id": "3whJCa1cdfUx",
    "outputId": "906e412c-a06d-4568-9291-144d65f5a593"
   },
   "outputs": [
    {
     "data": {
      "text/html": [
       "\n",
       "  <div id=\"df-795517fc-d94e-41d5-b2a8-74b98da466d9\">\n",
       "    <div class=\"colab-df-container\">\n",
       "      <div>\n",
       "<style scoped>\n",
       "    .dataframe tbody tr th:only-of-type {\n",
       "        vertical-align: middle;\n",
       "    }\n",
       "\n",
       "    .dataframe tbody tr th {\n",
       "        vertical-align: top;\n",
       "    }\n",
       "\n",
       "    .dataframe thead th {\n",
       "        text-align: right;\n",
       "    }\n",
       "</style>\n",
       "<table border=\"1\" class=\"dataframe\">\n",
       "  <thead>\n",
       "    <tr style=\"text-align: right;\">\n",
       "      <th></th>\n",
       "      <th>id</th>\n",
       "      <th>title</th>\n",
       "      <th>description</th>\n",
       "      <th>Main</th>\n",
       "      <th>Tags</th>\n",
       "      <th>tag_num</th>\n",
       "      <th>text</th>\n",
       "      <th>predicted</th>\n",
       "    </tr>\n",
       "  </thead>\n",
       "  <tbody>\n",
       "    <tr>\n",
       "      <th>0</th>\n",
       "      <td>2090</td>\n",
       "      <td>Biodiversity: What is it and how are we protec...</td>\n",
       "      <td>The planet is experiencing its sixth mass exti...</td>\n",
       "      <td>World</td>\n",
       "      <td>Entertainment,UK,World</td>\n",
       "      <td>3</td>\n",
       "      <td>Biodiversity: What is it and how are we protec...</td>\n",
       "      <td>ENVIRONMENT</td>\n",
       "    </tr>\n",
       "    <tr>\n",
       "      <th>1</th>\n",
       "      <td>2091</td>\n",
       "      <td>Amazon union election: Will this former worker...</td>\n",
       "      <td>Workers in three Amazon warehouses are decidin...</td>\n",
       "      <td>World</td>\n",
       "      <td>Entertainment,UK,World</td>\n",
       "      <td>3</td>\n",
       "      <td>Amazon union election: Will this former worker...</td>\n",
       "      <td>BUSINESS</td>\n",
       "    </tr>\n",
       "    <tr>\n",
       "      <th>2</th>\n",
       "      <td>2092</td>\n",
       "      <td>Ukraine crisis: Why India is buying more Russi...</td>\n",
       "      <td>Imports of cheaper Russian oil by India are ri...</td>\n",
       "      <td>World</td>\n",
       "      <td>Entertainment,UK,World</td>\n",
       "      <td>3</td>\n",
       "      <td>Ukraine crisis: Why India is buying more Russi...</td>\n",
       "      <td>WORLD NEWS</td>\n",
       "    </tr>\n",
       "    <tr>\n",
       "      <th>3</th>\n",
       "      <td>2093</td>\n",
       "      <td>French election: Why the small town of Moissac...</td>\n",
       "      <td>The relationship between a Bulgarian community...</td>\n",
       "      <td>World</td>\n",
       "      <td>Entertainment,UK,World</td>\n",
       "      <td>3</td>\n",
       "      <td>French election: Why the small town of Moissac...</td>\n",
       "      <td>WORLD NEWS</td>\n",
       "    </tr>\n",
       "    <tr>\n",
       "      <th>4</th>\n",
       "      <td>2096</td>\n",
       "      <td>Roman Abramovich suffered 'suspected poisoning...</td>\n",
       "      <td>The billionaire had sore eyes and peeling skin...</td>\n",
       "      <td>World</td>\n",
       "      <td>Entertainment,UK,World</td>\n",
       "      <td>3</td>\n",
       "      <td>Roman Abramovich suffered 'suspected poisoning...</td>\n",
       "      <td>WORLD NEWS</td>\n",
       "    </tr>\n",
       "    <tr>\n",
       "      <th>...</th>\n",
       "      <td>...</td>\n",
       "      <td>...</td>\n",
       "      <td>...</td>\n",
       "      <td>...</td>\n",
       "      <td>...</td>\n",
       "      <td>...</td>\n",
       "      <td>...</td>\n",
       "      <td>...</td>\n",
       "    </tr>\n",
       "    <tr>\n",
       "      <th>1486</th>\n",
       "      <td>2313</td>\n",
       "      <td>Second 'black box' found in China Eastern plan...</td>\n",
       "      <td>The second “black box” has been recovered from...</td>\n",
       "      <td>NaN</td>\n",
       "      <td>World</td>\n",
       "      <td>1</td>\n",
       "      <td>Second 'black box' found in China Eastern plan...</td>\n",
       "      <td>WORLD NEWS</td>\n",
       "    </tr>\n",
       "    <tr>\n",
       "      <th>1487</th>\n",
       "      <td>2314</td>\n",
       "      <td>Biden calls for Western unity as Russia suffer...</td>\n",
       "      <td>President Joe Biden called on the world to uni...</td>\n",
       "      <td>NaN</td>\n",
       "      <td>World</td>\n",
       "      <td>1</td>\n",
       "      <td>Biden calls for Western unity as Russia suffer...</td>\n",
       "      <td>POLITICS</td>\n",
       "    </tr>\n",
       "    <tr>\n",
       "      <th>1488</th>\n",
       "      <td>2315</td>\n",
       "      <td>Russian forces damage Holocaust memorial site,...</td>\n",
       "      <td>Russian forces fired on and damaged the Drobit...</td>\n",
       "      <td>NaN</td>\n",
       "      <td>World</td>\n",
       "      <td>1</td>\n",
       "      <td>Russian forces damage Holocaust memorial site,...</td>\n",
       "      <td>WORLD NEWS</td>\n",
       "    </tr>\n",
       "    <tr>\n",
       "      <th>1489</th>\n",
       "      <td>2316</td>\n",
       "      <td>WWII created generations of trauma in their fa...</td>\n",
       "      <td>When Liz Prager O’Brien was growing up in Rhod...</td>\n",
       "      <td>NaN</td>\n",
       "      <td>World</td>\n",
       "      <td>1</td>\n",
       "      <td>WWII created generations of trauma in their fa...</td>\n",
       "      <td>POLITICS</td>\n",
       "    </tr>\n",
       "    <tr>\n",
       "      <th>1490</th>\n",
       "      <td>2317</td>\n",
       "      <td>\"Terrible Tilly,\" Oregon lighthouse on market ...</td>\n",
       "      <td>The island's isolation, impossible boat landin...</td>\n",
       "      <td>NaN</td>\n",
       "      <td>US</td>\n",
       "      <td>1</td>\n",
       "      <td>\"Terrible Tilly,\" Oregon lighthouse on market ...</td>\n",
       "      <td>MONEY</td>\n",
       "    </tr>\n",
       "  </tbody>\n",
       "</table>\n",
       "<p>1491 rows × 8 columns</p>\n",
       "</div>\n",
       "      <button class=\"colab-df-convert\" onclick=\"convertToInteractive('df-795517fc-d94e-41d5-b2a8-74b98da466d9')\"\n",
       "              title=\"Convert this dataframe to an interactive table.\"\n",
       "              style=\"display:none;\">\n",
       "        \n",
       "  <svg xmlns=\"http://www.w3.org/2000/svg\" height=\"24px\"viewBox=\"0 0 24 24\"\n",
       "       width=\"24px\">\n",
       "    <path d=\"M0 0h24v24H0V0z\" fill=\"none\"/>\n",
       "    <path d=\"M18.56 5.44l.94 2.06.94-2.06 2.06-.94-2.06-.94-.94-2.06-.94 2.06-2.06.94zm-11 1L8.5 8.5l.94-2.06 2.06-.94-2.06-.94L8.5 2.5l-.94 2.06-2.06.94zm10 10l.94 2.06.94-2.06 2.06-.94-2.06-.94-.94-2.06-.94 2.06-2.06.94z\"/><path d=\"M17.41 7.96l-1.37-1.37c-.4-.4-.92-.59-1.43-.59-.52 0-1.04.2-1.43.59L10.3 9.45l-7.72 7.72c-.78.78-.78 2.05 0 2.83L4 21.41c.39.39.9.59 1.41.59.51 0 1.02-.2 1.41-.59l7.78-7.78 2.81-2.81c.8-.78.8-2.07 0-2.86zM5.41 20L4 18.59l7.72-7.72 1.47 1.35L5.41 20z\"/>\n",
       "  </svg>\n",
       "      </button>\n",
       "      \n",
       "  <style>\n",
       "    .colab-df-container {\n",
       "      display:flex;\n",
       "      flex-wrap:wrap;\n",
       "      gap: 12px;\n",
       "    }\n",
       "\n",
       "    .colab-df-convert {\n",
       "      background-color: #E8F0FE;\n",
       "      border: none;\n",
       "      border-radius: 50%;\n",
       "      cursor: pointer;\n",
       "      display: none;\n",
       "      fill: #1967D2;\n",
       "      height: 32px;\n",
       "      padding: 0 0 0 0;\n",
       "      width: 32px;\n",
       "    }\n",
       "\n",
       "    .colab-df-convert:hover {\n",
       "      background-color: #E2EBFA;\n",
       "      box-shadow: 0px 1px 2px rgba(60, 64, 67, 0.3), 0px 1px 3px 1px rgba(60, 64, 67, 0.15);\n",
       "      fill: #174EA6;\n",
       "    }\n",
       "\n",
       "    [theme=dark] .colab-df-convert {\n",
       "      background-color: #3B4455;\n",
       "      fill: #D2E3FC;\n",
       "    }\n",
       "\n",
       "    [theme=dark] .colab-df-convert:hover {\n",
       "      background-color: #434B5C;\n",
       "      box-shadow: 0px 1px 3px 1px rgba(0, 0, 0, 0.15);\n",
       "      filter: drop-shadow(0px 1px 2px rgba(0, 0, 0, 0.3));\n",
       "      fill: #FFFFFF;\n",
       "    }\n",
       "  </style>\n",
       "\n",
       "      <script>\n",
       "        const buttonEl =\n",
       "          document.querySelector('#df-795517fc-d94e-41d5-b2a8-74b98da466d9 button.colab-df-convert');\n",
       "        buttonEl.style.display =\n",
       "          google.colab.kernel.accessAllowed ? 'block' : 'none';\n",
       "\n",
       "        async function convertToInteractive(key) {\n",
       "          const element = document.querySelector('#df-795517fc-d94e-41d5-b2a8-74b98da466d9');\n",
       "          const dataTable =\n",
       "            await google.colab.kernel.invokeFunction('convertToInteractive',\n",
       "                                                     [key], {});\n",
       "          if (!dataTable) return;\n",
       "\n",
       "          const docLinkHtml = 'Like what you see? Visit the ' +\n",
       "            '<a target=\"_blank\" href=https://colab.research.google.com/notebooks/data_table.ipynb>data table notebook</a>'\n",
       "            + ' to learn more about interactive tables.';\n",
       "          element.innerHTML = '';\n",
       "          dataTable['output_type'] = 'display_data';\n",
       "          await google.colab.output.renderOutput(dataTable, element);\n",
       "          const docLink = document.createElement('div');\n",
       "          docLink.innerHTML = docLinkHtml;\n",
       "          element.appendChild(docLink);\n",
       "        }\n",
       "      </script>\n",
       "    </div>\n",
       "  </div>\n",
       "  "
      ],
      "text/plain": [
       "        id                                              title  \\\n",
       "0     2090  Biodiversity: What is it and how are we protec...   \n",
       "1     2091  Amazon union election: Will this former worker...   \n",
       "2     2092  Ukraine crisis: Why India is buying more Russi...   \n",
       "3     2093  French election: Why the small town of Moissac...   \n",
       "4     2096  Roman Abramovich suffered 'suspected poisoning...   \n",
       "...    ...                                                ...   \n",
       "1486  2313  Second 'black box' found in China Eastern plan...   \n",
       "1487  2314  Biden calls for Western unity as Russia suffer...   \n",
       "1488  2315  Russian forces damage Holocaust memorial site,...   \n",
       "1489  2316  WWII created generations of trauma in their fa...   \n",
       "1490  2317  \"Terrible Tilly,\" Oregon lighthouse on market ...   \n",
       "\n",
       "                                            description   Main  \\\n",
       "0     The planet is experiencing its sixth mass exti...  World   \n",
       "1     Workers in three Amazon warehouses are decidin...  World   \n",
       "2     Imports of cheaper Russian oil by India are ri...  World   \n",
       "3     The relationship between a Bulgarian community...  World   \n",
       "4     The billionaire had sore eyes and peeling skin...  World   \n",
       "...                                                 ...    ...   \n",
       "1486  The second “black box” has been recovered from...    NaN   \n",
       "1487  President Joe Biden called on the world to uni...    NaN   \n",
       "1488  Russian forces fired on and damaged the Drobit...    NaN   \n",
       "1489  When Liz Prager O’Brien was growing up in Rhod...    NaN   \n",
       "1490  The island's isolation, impossible boat landin...    NaN   \n",
       "\n",
       "                        Tags  tag_num  \\\n",
       "0     Entertainment,UK,World        3   \n",
       "1     Entertainment,UK,World        3   \n",
       "2     Entertainment,UK,World        3   \n",
       "3     Entertainment,UK,World        3   \n",
       "4     Entertainment,UK,World        3   \n",
       "...                      ...      ...   \n",
       "1486                   World        1   \n",
       "1487                   World        1   \n",
       "1488                   World        1   \n",
       "1489                   World        1   \n",
       "1490                      US        1   \n",
       "\n",
       "                                                   text    predicted  \n",
       "0     Biodiversity: What is it and how are we protec...  ENVIRONMENT  \n",
       "1     Amazon union election: Will this former worker...     BUSINESS  \n",
       "2     Ukraine crisis: Why India is buying more Russi...   WORLD NEWS  \n",
       "3     French election: Why the small town of Moissac...   WORLD NEWS  \n",
       "4     Roman Abramovich suffered 'suspected poisoning...   WORLD NEWS  \n",
       "...                                                 ...          ...  \n",
       "1486  Second 'black box' found in China Eastern plan...   WORLD NEWS  \n",
       "1487  Biden calls for Western unity as Russia suffer...     POLITICS  \n",
       "1488  Russian forces damage Holocaust memorial site,...   WORLD NEWS  \n",
       "1489  WWII created generations of trauma in their fa...     POLITICS  \n",
       "1490  \"Terrible Tilly,\" Oregon lighthouse on market ...        MONEY  \n",
       "\n",
       "[1491 rows x 8 columns]"
      ]
     },
     "execution_count": 20,
     "metadata": {},
     "output_type": "execute_result"
    }
   ],
   "source": [
    "df_preds = df_test.copy()\n",
    "df_preds['predicted'] = result.columns[result.values.argmax(axis=1)]\n",
    "df_preds"
   ]
  },
  {
   "cell_type": "code",
   "execution_count": null,
   "metadata": {
    "id": "go1GJGM7FGkb"
   },
   "outputs": [],
   "source": [
    "df_preds.to_csv(os.path.join(args['data_dir'], 'test_preds.csv'), index=None)\n",
    "result.to_csv(os.path.join(args['data_dir'], 'result.csv'), index=None)\n",
    "pd.DataFrame(raw_logits).to_csv(os.path.join(args['data_dir'], 'raw_logits.csv'), index=None)\n",
    "pd.DataFrame(embeddings).to_csv(os.path.join(args['data_dir'], 'embeddings.csv'), index=None)"
   ]
  },
  {
   "cell_type": "markdown",
   "metadata": {},
   "source": [
    "## Json-to-json interface"
   ]
  },
  {
   "cell_type": "code",
   "execution_count": 12,
   "metadata": {
    "ExecuteTime": {
     "end_time": "2022-04-11T08:36:55.746160Z",
     "start_time": "2022-04-11T08:36:55.720861Z"
    }
   },
   "outputs": [
    {
     "data": {
      "text/plain": [
       "[{'title': 'News title', 'text': 'News text', 'id': 12345},\n",
       " {'title': 'News title', 'text': 'News text', 'id': 12345},\n",
       " {'title': 'News title', 'text': 'News text', 'id': 12345},\n",
       " {'title': 'News title', 'text': 'News text', 'id': 12345},\n",
       " {'title': 'News title', 'text': 'News text', 'id': 12345},\n",
       " {'title': 'News title', 'text': 'News text', 'id': 12345}]"
      ]
     },
     "execution_count": 12,
     "metadata": {},
     "output_type": "execute_result"
    }
   ],
   "source": [
    "fname = 'data/example.json'\n",
    "with open(fname, 'r') as f:\n",
    "    query = f.read()\n",
    "json.loads(query)"
   ]
  },
  {
   "cell_type": "code",
   "execution_count": 13,
   "metadata": {
    "ExecuteTime": {
     "end_time": "2022-04-11T08:36:57.518366Z",
     "start_time": "2022-04-11T08:36:57.257355Z"
    }
   },
   "outputs": [
    {
     "data": {
      "application/vnd.jupyter.widget-view+json": {
       "model_id": "3ee384a948ab41ecbbbde50ea4b90682",
       "version_major": 2,
       "version_minor": 0
      },
      "text/plain": [
       "Prediction Iteration:   0%|          | 0/1 [00:00<?, ?it/s]"
      ]
     },
     "metadata": {},
     "output_type": "display_data"
    }
   ],
   "source": [
    "res = evals.predict_json(query, bert_model, processor, tokenizer, args)"
   ]
  },
  {
   "cell_type": "code",
   "execution_count": 14,
   "metadata": {
    "ExecuteTime": {
     "end_time": "2022-04-11T08:36:58.620560Z",
     "start_time": "2022-04-11T08:36:58.591992Z"
    }
   },
   "outputs": [
    {
     "data": {
      "text/plain": [
       "[{'id': 12345,\n",
       "  'ENTERTAINMENT': 0.0816300064,\n",
       "  'WORLD NEWS': 0.0006147406,\n",
       "  'OTHER': 0.8685216904,\n",
       "  'POLITICS': 0.0382830948,\n",
       "  'WOMEN': 0.002730184,\n",
       "  'SPORTS': 0.0014451181,\n",
       "  'BUSINESS': 0.0010085765,\n",
       "  'TRAVEL': 0.0001468311,\n",
       "  'TECH': 0.000203285,\n",
       "  'RELIGION': 0.0007750434,\n",
       "  'SCIENCE': 0.0001162445,\n",
       "  'ARTS': 0.0004412504,\n",
       "  'STYLE': 0.0012045999,\n",
       "  'ENVIRONMENT': 0.0009753357,\n",
       "  'FOOD & DRINK': 0.0001700497,\n",
       "  'HEALTHY LIVING': 0.0014444471,\n",
       "  'HOME & LIVING': 0.00013015,\n",
       "  'MONEY': 0.0001593335},\n",
       " {'id': 12345,\n",
       "  'ENTERTAINMENT': 0.0816300064,\n",
       "  'WORLD NEWS': 0.0006147406,\n",
       "  'OTHER': 0.8685216904,\n",
       "  'POLITICS': 0.0382830948,\n",
       "  'WOMEN': 0.002730184,\n",
       "  'SPORTS': 0.0014451181,\n",
       "  'BUSINESS': 0.0010085765,\n",
       "  'TRAVEL': 0.0001468311,\n",
       "  'TECH': 0.000203285,\n",
       "  'RELIGION': 0.0007750434,\n",
       "  'SCIENCE': 0.0001162445,\n",
       "  'ARTS': 0.0004412504,\n",
       "  'STYLE': 0.0012045999,\n",
       "  'ENVIRONMENT': 0.0009753357,\n",
       "  'FOOD & DRINK': 0.0001700497,\n",
       "  'HEALTHY LIVING': 0.0014444471,\n",
       "  'HOME & LIVING': 0.00013015,\n",
       "  'MONEY': 0.0001593335},\n",
       " {'id': 12345,\n",
       "  'ENTERTAINMENT': 0.0816300064,\n",
       "  'WORLD NEWS': 0.0006147406,\n",
       "  'OTHER': 0.8685216904,\n",
       "  'POLITICS': 0.0382830948,\n",
       "  'WOMEN': 0.002730184,\n",
       "  'SPORTS': 0.0014451181,\n",
       "  'BUSINESS': 0.0010085765,\n",
       "  'TRAVEL': 0.0001468311,\n",
       "  'TECH': 0.000203285,\n",
       "  'RELIGION': 0.0007750434,\n",
       "  'SCIENCE': 0.0001162445,\n",
       "  'ARTS': 0.0004412504,\n",
       "  'STYLE': 0.0012045999,\n",
       "  'ENVIRONMENT': 0.0009753357,\n",
       "  'FOOD & DRINK': 0.0001700497,\n",
       "  'HEALTHY LIVING': 0.0014444471,\n",
       "  'HOME & LIVING': 0.00013015,\n",
       "  'MONEY': 0.0001593335},\n",
       " {'id': 12345,\n",
       "  'ENTERTAINMENT': 0.0816300064,\n",
       "  'WORLD NEWS': 0.0006147406,\n",
       "  'OTHER': 0.8685216904,\n",
       "  'POLITICS': 0.0382830948,\n",
       "  'WOMEN': 0.002730184,\n",
       "  'SPORTS': 0.0014451181,\n",
       "  'BUSINESS': 0.0010085765,\n",
       "  'TRAVEL': 0.0001468311,\n",
       "  'TECH': 0.000203285,\n",
       "  'RELIGION': 0.0007750434,\n",
       "  'SCIENCE': 0.0001162445,\n",
       "  'ARTS': 0.0004412504,\n",
       "  'STYLE': 0.0012045999,\n",
       "  'ENVIRONMENT': 0.0009753357,\n",
       "  'FOOD & DRINK': 0.0001700497,\n",
       "  'HEALTHY LIVING': 0.0014444471,\n",
       "  'HOME & LIVING': 0.00013015,\n",
       "  'MONEY': 0.0001593335},\n",
       " {'id': 12345,\n",
       "  'ENTERTAINMENT': 0.0816300064,\n",
       "  'WORLD NEWS': 0.0006147406,\n",
       "  'OTHER': 0.8685216904,\n",
       "  'POLITICS': 0.0382830948,\n",
       "  'WOMEN': 0.002730184,\n",
       "  'SPORTS': 0.0014451181,\n",
       "  'BUSINESS': 0.0010085765,\n",
       "  'TRAVEL': 0.0001468311,\n",
       "  'TECH': 0.000203285,\n",
       "  'RELIGION': 0.0007750434,\n",
       "  'SCIENCE': 0.0001162445,\n",
       "  'ARTS': 0.0004412504,\n",
       "  'STYLE': 0.0012045999,\n",
       "  'ENVIRONMENT': 0.0009753357,\n",
       "  'FOOD & DRINK': 0.0001700497,\n",
       "  'HEALTHY LIVING': 0.0014444471,\n",
       "  'HOME & LIVING': 0.00013015,\n",
       "  'MONEY': 0.0001593335},\n",
       " {'id': 12345,\n",
       "  'ENTERTAINMENT': 0.0816300064,\n",
       "  'WORLD NEWS': 0.0006147406,\n",
       "  'OTHER': 0.8685216904,\n",
       "  'POLITICS': 0.0382830948,\n",
       "  'WOMEN': 0.002730184,\n",
       "  'SPORTS': 0.0014451181,\n",
       "  'BUSINESS': 0.0010085765,\n",
       "  'TRAVEL': 0.0001468311,\n",
       "  'TECH': 0.000203285,\n",
       "  'RELIGION': 0.0007750434,\n",
       "  'SCIENCE': 0.0001162445,\n",
       "  'ARTS': 0.0004412504,\n",
       "  'STYLE': 0.0012045999,\n",
       "  'ENVIRONMENT': 0.0009753357,\n",
       "  'FOOD & DRINK': 0.0001700497,\n",
       "  'HEALTHY LIVING': 0.0014444471,\n",
       "  'HOME & LIVING': 0.00013015,\n",
       "  'MONEY': 0.0001593335}]"
      ]
     },
     "execution_count": 14,
     "metadata": {},
     "output_type": "execute_result"
    }
   ],
   "source": [
    "json.loads(res)"
   ]
  }
 ],
 "metadata": {
  "accelerator": "GPU",
  "colab": {
   "collapsed_sections": [],
   "name": "bert_classification_model_inference.ipynb",
   "provenance": []
  },
  "kernelspec": {
   "display_name": "Python 3 (ipykernel)",
   "language": "python",
   "name": "python3"
  },
  "language_info": {
   "codemirror_mode": {
    "name": "ipython",
    "version": 3
   },
   "file_extension": ".py",
   "mimetype": "text/x-python",
   "name": "python",
   "nbconvert_exporter": "python",
   "pygments_lexer": "ipython3",
   "version": "3.8.10"
  },
  "toc": {
   "base_numbering": 1,
   "nav_menu": {},
   "number_sections": true,
   "sideBar": true,
   "skip_h1_title": false,
   "title_cell": "Table of Contents",
   "title_sidebar": "Contents",
   "toc_cell": false,
   "toc_position": {
    "height": "calc(100% - 180px)",
    "left": "10px",
    "top": "150px",
    "width": "179.117px"
   },
   "toc_section_display": true,
   "toc_window_display": true
  },
  "widgets": {
   "application/vnd.jupyter.widget-state+json": {
    "039a7c5223534353be63e4d7bee920c0": {
     "model_module": "@jupyter-widgets/controls",
     "model_module_version": "1.5.0",
     "model_name": "HBoxModel",
     "state": {
      "_dom_classes": [],
      "_model_module": "@jupyter-widgets/controls",
      "_model_module_version": "1.5.0",
      "_model_name": "HBoxModel",
      "_view_count": null,
      "_view_module": "@jupyter-widgets/controls",
      "_view_module_version": "1.5.0",
      "_view_name": "HBoxView",
      "box_style": "",
      "children": [
       "IPY_MODEL_e47fff04115a40f59d7e0d56d9841691",
       "IPY_MODEL_e9c7fb75b8d444cca99a8d74d706ceda",
       "IPY_MODEL_59feecd4c018450b883dcde4ad880485"
      ],
      "layout": "IPY_MODEL_317924bcab664ecda41a862476426739"
     }
    },
    "22aa0c3cce2b49c2b2ab9f6ccdc59771": {
     "model_module": "@jupyter-widgets/base",
     "model_module_version": "1.2.0",
     "model_name": "LayoutModel",
     "state": {
      "_model_module": "@jupyter-widgets/base",
      "_model_module_version": "1.2.0",
      "_model_name": "LayoutModel",
      "_view_count": null,
      "_view_module": "@jupyter-widgets/base",
      "_view_module_version": "1.2.0",
      "_view_name": "LayoutView",
      "align_content": null,
      "align_items": null,
      "align_self": null,
      "border": null,
      "bottom": null,
      "display": null,
      "flex": null,
      "flex_flow": null,
      "grid_area": null,
      "grid_auto_columns": null,
      "grid_auto_flow": null,
      "grid_auto_rows": null,
      "grid_column": null,
      "grid_gap": null,
      "grid_row": null,
      "grid_template_areas": null,
      "grid_template_columns": null,
      "grid_template_rows": null,
      "height": null,
      "justify_content": null,
      "justify_items": null,
      "left": null,
      "margin": null,
      "max_height": null,
      "max_width": null,
      "min_height": null,
      "min_width": null,
      "object_fit": null,
      "object_position": null,
      "order": null,
      "overflow": null,
      "overflow_x": null,
      "overflow_y": null,
      "padding": null,
      "right": null,
      "top": null,
      "visibility": null,
      "width": null
     }
    },
    "317924bcab664ecda41a862476426739": {
     "model_module": "@jupyter-widgets/base",
     "model_module_version": "1.2.0",
     "model_name": "LayoutModel",
     "state": {
      "_model_module": "@jupyter-widgets/base",
      "_model_module_version": "1.2.0",
      "_model_name": "LayoutModel",
      "_view_count": null,
      "_view_module": "@jupyter-widgets/base",
      "_view_module_version": "1.2.0",
      "_view_name": "LayoutView",
      "align_content": null,
      "align_items": null,
      "align_self": null,
      "border": null,
      "bottom": null,
      "display": null,
      "flex": null,
      "flex_flow": null,
      "grid_area": null,
      "grid_auto_columns": null,
      "grid_auto_flow": null,
      "grid_auto_rows": null,
      "grid_column": null,
      "grid_gap": null,
      "grid_row": null,
      "grid_template_areas": null,
      "grid_template_columns": null,
      "grid_template_rows": null,
      "height": null,
      "justify_content": null,
      "justify_items": null,
      "left": null,
      "margin": null,
      "max_height": null,
      "max_width": null,
      "min_height": null,
      "min_width": null,
      "object_fit": null,
      "object_position": null,
      "order": null,
      "overflow": null,
      "overflow_x": null,
      "overflow_y": null,
      "padding": null,
      "right": null,
      "top": null,
      "visibility": null,
      "width": null
     }
    },
    "4d35130153364c3aaa0ce0c750a6c2c7": {
     "model_module": "@jupyter-widgets/base",
     "model_module_version": "1.2.0",
     "model_name": "LayoutModel",
     "state": {
      "_model_module": "@jupyter-widgets/base",
      "_model_module_version": "1.2.0",
      "_model_name": "LayoutModel",
      "_view_count": null,
      "_view_module": "@jupyter-widgets/base",
      "_view_module_version": "1.2.0",
      "_view_name": "LayoutView",
      "align_content": null,
      "align_items": null,
      "align_self": null,
      "border": null,
      "bottom": null,
      "display": null,
      "flex": null,
      "flex_flow": null,
      "grid_area": null,
      "grid_auto_columns": null,
      "grid_auto_flow": null,
      "grid_auto_rows": null,
      "grid_column": null,
      "grid_gap": null,
      "grid_row": null,
      "grid_template_areas": null,
      "grid_template_columns": null,
      "grid_template_rows": null,
      "height": null,
      "justify_content": null,
      "justify_items": null,
      "left": null,
      "margin": null,
      "max_height": null,
      "max_width": null,
      "min_height": null,
      "min_width": null,
      "object_fit": null,
      "object_position": null,
      "order": null,
      "overflow": null,
      "overflow_x": null,
      "overflow_y": null,
      "padding": null,
      "right": null,
      "top": null,
      "visibility": null,
      "width": null
     }
    },
    "59feecd4c018450b883dcde4ad880485": {
     "model_module": "@jupyter-widgets/controls",
     "model_module_version": "1.5.0",
     "model_name": "HTMLModel",
     "state": {
      "_dom_classes": [],
      "_model_module": "@jupyter-widgets/controls",
      "_model_module_version": "1.5.0",
      "_model_name": "HTMLModel",
      "_view_count": null,
      "_view_module": "@jupyter-widgets/controls",
      "_view_module_version": "1.5.0",
      "_view_name": "HTMLView",
      "description": "",
      "description_tooltip": null,
      "layout": "IPY_MODEL_4d35130153364c3aaa0ce0c750a6c2c7",
      "placeholder": "​",
      "style": "IPY_MODEL_77b7b7d7945149bf8b065a8a1ab9e805",
      "value": " 12/12 [00:10&lt;00:00,  1.20it/s]"
     }
    },
    "77b7b7d7945149bf8b065a8a1ab9e805": {
     "model_module": "@jupyter-widgets/controls",
     "model_module_version": "1.5.0",
     "model_name": "DescriptionStyleModel",
     "state": {
      "_model_module": "@jupyter-widgets/controls",
      "_model_module_version": "1.5.0",
      "_model_name": "DescriptionStyleModel",
      "_view_count": null,
      "_view_module": "@jupyter-widgets/base",
      "_view_module_version": "1.2.0",
      "_view_name": "StyleView",
      "description_width": ""
     }
    },
    "88f3aec0776844c492b7ff3cf174d2c9": {
     "model_module": "@jupyter-widgets/controls",
     "model_module_version": "1.5.0",
     "model_name": "ProgressStyleModel",
     "state": {
      "_model_module": "@jupyter-widgets/controls",
      "_model_module_version": "1.5.0",
      "_model_name": "ProgressStyleModel",
      "_view_count": null,
      "_view_module": "@jupyter-widgets/base",
      "_view_module_version": "1.2.0",
      "_view_name": "StyleView",
      "bar_color": null,
      "description_width": ""
     }
    },
    "b2178eb228c34af69f8bd65b4bc8126f": {
     "model_module": "@jupyter-widgets/base",
     "model_module_version": "1.2.0",
     "model_name": "LayoutModel",
     "state": {
      "_model_module": "@jupyter-widgets/base",
      "_model_module_version": "1.2.0",
      "_model_name": "LayoutModel",
      "_view_count": null,
      "_view_module": "@jupyter-widgets/base",
      "_view_module_version": "1.2.0",
      "_view_name": "LayoutView",
      "align_content": null,
      "align_items": null,
      "align_self": null,
      "border": null,
      "bottom": null,
      "display": null,
      "flex": null,
      "flex_flow": null,
      "grid_area": null,
      "grid_auto_columns": null,
      "grid_auto_flow": null,
      "grid_auto_rows": null,
      "grid_column": null,
      "grid_gap": null,
      "grid_row": null,
      "grid_template_areas": null,
      "grid_template_columns": null,
      "grid_template_rows": null,
      "height": null,
      "justify_content": null,
      "justify_items": null,
      "left": null,
      "margin": null,
      "max_height": null,
      "max_width": null,
      "min_height": null,
      "min_width": null,
      "object_fit": null,
      "object_position": null,
      "order": null,
      "overflow": null,
      "overflow_x": null,
      "overflow_y": null,
      "padding": null,
      "right": null,
      "top": null,
      "visibility": null,
      "width": null
     }
    },
    "d9a4c22b442145cba6d53452c241b6d8": {
     "model_module": "@jupyter-widgets/controls",
     "model_module_version": "1.5.0",
     "model_name": "DescriptionStyleModel",
     "state": {
      "_model_module": "@jupyter-widgets/controls",
      "_model_module_version": "1.5.0",
      "_model_name": "DescriptionStyleModel",
      "_view_count": null,
      "_view_module": "@jupyter-widgets/base",
      "_view_module_version": "1.2.0",
      "_view_name": "StyleView",
      "description_width": ""
     }
    },
    "e47fff04115a40f59d7e0d56d9841691": {
     "model_module": "@jupyter-widgets/controls",
     "model_module_version": "1.5.0",
     "model_name": "HTMLModel",
     "state": {
      "_dom_classes": [],
      "_model_module": "@jupyter-widgets/controls",
      "_model_module_version": "1.5.0",
      "_model_name": "HTMLModel",
      "_view_count": null,
      "_view_module": "@jupyter-widgets/controls",
      "_view_module_version": "1.5.0",
      "_view_name": "HTMLView",
      "description": "",
      "description_tooltip": null,
      "layout": "IPY_MODEL_22aa0c3cce2b49c2b2ab9f6ccdc59771",
      "placeholder": "​",
      "style": "IPY_MODEL_d9a4c22b442145cba6d53452c241b6d8",
      "value": "Prediction Iteration: 100%"
     }
    },
    "e9c7fb75b8d444cca99a8d74d706ceda": {
     "model_module": "@jupyter-widgets/controls",
     "model_module_version": "1.5.0",
     "model_name": "FloatProgressModel",
     "state": {
      "_dom_classes": [],
      "_model_module": "@jupyter-widgets/controls",
      "_model_module_version": "1.5.0",
      "_model_name": "FloatProgressModel",
      "_view_count": null,
      "_view_module": "@jupyter-widgets/controls",
      "_view_module_version": "1.5.0",
      "_view_name": "ProgressView",
      "bar_style": "success",
      "description": "",
      "description_tooltip": null,
      "layout": "IPY_MODEL_b2178eb228c34af69f8bd65b4bc8126f",
      "max": 12,
      "min": 0,
      "orientation": "horizontal",
      "style": "IPY_MODEL_88f3aec0776844c492b7ff3cf174d2c9",
      "value": 12
     }
    }
   }
  }
 },
 "nbformat": 4,
 "nbformat_minor": 1
}
